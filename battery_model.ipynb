{
 "cells": [
  {
   "cell_type": "code",
   "execution_count": 13,
   "id": "1214e908",
   "metadata": {
    "ExecuteTime": {
     "end_time": "2023-07-04T10:10:42.244099600Z",
     "start_time": "2023-07-04T10:10:41.846250200Z"
    }
   },
   "outputs": [],
   "source": [
    "import pybamm\n",
    "import random\n",
    "import numpy as np\n",
    "import matplotlib.pyplot as plt"
   ]
  },
  {
   "cell_type": "code",
   "execution_count": 14,
   "id": "86aa1232",
   "metadata": {
    "ExecuteTime": {
     "end_time": "2023-07-04T10:10:42.840292700Z",
     "start_time": "2023-07-04T10:10:41.951814100Z"
    }
   },
   "outputs": [],
   "source": [
    "model = pybamm.lithium_ion.SPMe()\n",
    "param = pybamm.ParameterValues(\"Chen2020\")\n",
    "param[\"Current function [A]\"] = \"[input]\""
   ]
  },
  {
   "cell_type": "code",
   "execution_count": 15,
   "id": "3cba57bd",
   "metadata": {
    "ExecuteTime": {
     "end_time": "2023-07-04T10:10:42.858301900Z",
     "start_time": "2023-07-04T10:10:42.844293800Z"
    }
   },
   "outputs": [],
   "source": [
    "time_step = 100 #[s]\n",
    "final_time =60000 #[s]\n",
    "max_step = int(final_time/time_step)\n",
    "#i = [random.randint(-2, 2) for _ in range(max_step)]\n",
    "i = [1 for _ in range(max_step)]\n",
    "soc_0 = param['Initial concentration in negative electrode [mol.m-3]']/param['Maximum concentration in negative electrode [mol.m-3]']"
   ]
  },
  {
   "cell_type": "code",
   "execution_count": 16,
   "id": "80e10986",
   "metadata": {
    "ExecuteTime": {
     "end_time": "2023-07-04T10:10:42.916838500Z",
     "start_time": "2023-07-04T10:10:42.859293Z"
    }
   },
   "outputs": [],
   "source": [
    "soc_0 = 1"
   ]
  },
  {
   "cell_type": "code",
   "execution_count": 17,
   "id": "3051aca9",
   "metadata": {
    "ExecuteTime": {
     "end_time": "2023-07-04T10:10:44.778457800Z",
     "start_time": "2023-07-04T10:10:42.883292800Z"
    }
   },
   "outputs": [],
   "source": [
    "sim = pybamm.Simulation(model, parameter_values=param)\n",
    "sim.build(check_model=True, initial_soc=soc_0)"
   ]
  },
  {
   "cell_type": "code",
   "execution_count": 18,
   "id": "f98b8424",
   "metadata": {
    "scrolled": true,
    "ExecuteTime": {
     "end_time": "2023-07-04T10:10:58.872772400Z",
     "start_time": "2023-07-04T10:10:44.695891400Z"
    }
   },
   "outputs": [
    {
     "name": "stdout",
     "output_type": "stream",
     "text": [
      "Time: 100.0 SoC: 0.99444 Current: 1.0 Voltage: 4.12 Discharge capacity: 0.03\n",
      "Time: 200.0 SoC: 0.98889 Current: 1.0 Voltage: 4.1 Discharge capacity: 0.06\n",
      "Time: 300.0 SoC: 0.98333 Current: 1.0 Voltage: 4.09 Discharge capacity: 0.08\n",
      "Time: 400.0 SoC: 0.97778 Current: 1.0 Voltage: 4.09 Discharge capacity: 0.11\n",
      "Time: 500.0 SoC: 0.97222 Current: 1.0 Voltage: 4.08 Discharge capacity: 0.14\n",
      "Time: 600.0 SoC: 0.96667 Current: 1.0 Voltage: 4.07 Discharge capacity: 0.17\n",
      "Time: 700.0 SoC: 0.96111 Current: 1.0 Voltage: 4.07 Discharge capacity: 0.19\n",
      "Time: 800.0 SoC: 0.95556 Current: 1.0 Voltage: 4.06 Discharge capacity: 0.22\n",
      "Time: 900.0 SoC: 0.95 Current: 1.0 Voltage: 4.06 Discharge capacity: 0.25\n",
      "Time: 1000.0 SoC: 0.94444 Current: 1.0 Voltage: 4.06 Discharge capacity: 0.28\n",
      "Time: 1100.0 SoC: 0.93889 Current: 1.0 Voltage: 4.06 Discharge capacity: 0.31\n",
      "Time: 1200.0 SoC: 0.93333 Current: 1.0 Voltage: 4.06 Discharge capacity: 0.33\n",
      "Time: 1300.0 SoC: 0.92778 Current: 1.0 Voltage: 4.06 Discharge capacity: 0.36\n",
      "Time: 1400.0 SoC: 0.92222 Current: 1.0 Voltage: 4.05 Discharge capacity: 0.39\n",
      "Time: 1500.0 SoC: 0.91667 Current: 1.0 Voltage: 4.05 Discharge capacity: 0.42\n",
      "Time: 1600.0 SoC: 0.91111 Current: 1.0 Voltage: 4.05 Discharge capacity: 0.44\n",
      "Time: 1700.0 SoC: 0.90556 Current: 1.0 Voltage: 4.05 Discharge capacity: 0.47\n",
      "Time: 1800.0 SoC: 0.9 Current: 1.0 Voltage: 4.05 Discharge capacity: 0.5\n",
      "Time: 1900.0 SoC: 0.89444 Current: 1.0 Voltage: 4.05 Discharge capacity: 0.53\n",
      "Time: 2000.0 SoC: 0.88889 Current: 1.0 Voltage: 4.05 Discharge capacity: 0.56\n",
      "Time: 2100.0 SoC: 0.88333 Current: 1.0 Voltage: 4.05 Discharge capacity: 0.58\n",
      "Time: 2200.0 SoC: 0.87778 Current: 1.0 Voltage: 4.04 Discharge capacity: 0.61\n",
      "Time: 2300.0 SoC: 0.87222 Current: 1.0 Voltage: 4.04 Discharge capacity: 0.64\n",
      "Time: 2400.0 SoC: 0.86667 Current: 1.0 Voltage: 4.04 Discharge capacity: 0.67\n",
      "Time: 2500.0 SoC: 0.86111 Current: 1.0 Voltage: 4.04 Discharge capacity: 0.69\n",
      "Time: 2600.0 SoC: 0.85556 Current: 1.0 Voltage: 4.03 Discharge capacity: 0.72\n",
      "Time: 2700.0 SoC: 0.85 Current: 1.0 Voltage: 4.03 Discharge capacity: 0.75\n",
      "Time: 2800.0 SoC: 0.84444 Current: 1.0 Voltage: 4.02 Discharge capacity: 0.78\n",
      "Time: 2900.0 SoC: 0.83889 Current: 1.0 Voltage: 4.02 Discharge capacity: 0.81\n",
      "Time: 3000.0 SoC: 0.83333 Current: 1.0 Voltage: 4.02 Discharge capacity: 0.83\n",
      "Time: 3100.0 SoC: 0.82778 Current: 1.0 Voltage: 4.01 Discharge capacity: 0.86\n",
      "Time: 3200.0 SoC: 0.82222 Current: 1.0 Voltage: 4.01 Discharge capacity: 0.89\n",
      "Time: 3300.0 SoC: 0.81667 Current: 1.0 Voltage: 4.0 Discharge capacity: 0.92\n",
      "Time: 3400.0 SoC: 0.81111 Current: 1.0 Voltage: 4.0 Discharge capacity: 0.94\n",
      "Time: 3500.0 SoC: 0.80556 Current: 1.0 Voltage: 3.99 Discharge capacity: 0.97\n",
      "Time: 3600.0 SoC: 0.8 Current: 1.0 Voltage: 3.99 Discharge capacity: 1.0\n",
      "Time: 3700.0 SoC: 0.79444 Current: 1.0 Voltage: 3.98 Discharge capacity: 1.03\n",
      "Time: 3800.0 SoC: 0.78889 Current: 1.0 Voltage: 3.98 Discharge capacity: 1.06\n",
      "Time: 3900.0 SoC: 0.78333 Current: 1.0 Voltage: 3.97 Discharge capacity: 1.08\n",
      "Time: 4000.0 SoC: 0.77778 Current: 1.0 Voltage: 3.97 Discharge capacity: 1.11\n",
      "Time: 4100.0 SoC: 0.77222 Current: 1.0 Voltage: 3.96 Discharge capacity: 1.14\n",
      "Time: 4200.0 SoC: 0.76667 Current: 1.0 Voltage: 3.96 Discharge capacity: 1.17\n",
      "Time: 4300.0 SoC: 0.76111 Current: 1.0 Voltage: 3.95 Discharge capacity: 1.19\n",
      "Time: 4400.0 SoC: 0.75556 Current: 1.0 Voltage: 3.95 Discharge capacity: 1.22\n",
      "Time: 4500.0 SoC: 0.75 Current: 1.0 Voltage: 3.94 Discharge capacity: 1.25\n",
      "Time: 4600.0 SoC: 0.74444 Current: 1.0 Voltage: 3.94 Discharge capacity: 1.28\n",
      "Time: 4700.0 SoC: 0.73889 Current: 1.0 Voltage: 3.93 Discharge capacity: 1.31\n",
      "Time: 4800.0 SoC: 0.73333 Current: 1.0 Voltage: 3.93 Discharge capacity: 1.33\n",
      "Time: 4900.0 SoC: 0.72778 Current: 1.0 Voltage: 3.92 Discharge capacity: 1.36\n",
      "Time: 5000.0 SoC: 0.72222 Current: 1.0 Voltage: 3.92 Discharge capacity: 1.39\n",
      "Time: 5100.0 SoC: 0.71667 Current: 1.0 Voltage: 3.91 Discharge capacity: 1.42\n",
      "Time: 5200.0 SoC: 0.71111 Current: 1.0 Voltage: 3.91 Discharge capacity: 1.44\n",
      "Time: 5300.0 SoC: 0.70556 Current: 1.0 Voltage: 3.91 Discharge capacity: 1.47\n",
      "Time: 5400.0 SoC: 0.7 Current: 1.0 Voltage: 3.9 Discharge capacity: 1.5\n",
      "Time: 5500.0 SoC: 0.69444 Current: 1.0 Voltage: 3.9 Discharge capacity: 1.53\n",
      "Time: 5600.0 SoC: 0.68889 Current: 1.0 Voltage: 3.89 Discharge capacity: 1.56\n",
      "Time: 5700.0 SoC: 0.68333 Current: 1.0 Voltage: 3.89 Discharge capacity: 1.58\n",
      "Time: 5800.0 SoC: 0.67778 Current: 1.0 Voltage: 3.88 Discharge capacity: 1.61\n",
      "Time: 5900.0 SoC: 0.67222 Current: 1.0 Voltage: 3.87 Discharge capacity: 1.64\n",
      "Time: 6000.0 SoC: 0.66667 Current: 1.0 Voltage: 3.87 Discharge capacity: 1.67\n",
      "Time: 6100.0 SoC: 0.66111 Current: 1.0 Voltage: 3.86 Discharge capacity: 1.69\n",
      "Time: 6200.0 SoC: 0.65556 Current: 1.0 Voltage: 3.85 Discharge capacity: 1.72\n",
      "Time: 6300.0 SoC: 0.65 Current: 1.0 Voltage: 3.85 Discharge capacity: 1.75\n",
      "Time: 6400.0 SoC: 0.64444 Current: 1.0 Voltage: 3.84 Discharge capacity: 1.78\n",
      "Time: 6500.0 SoC: 0.63889 Current: 1.0 Voltage: 3.83 Discharge capacity: 1.81\n",
      "Time: 6600.0 SoC: 0.63333 Current: 1.0 Voltage: 3.83 Discharge capacity: 1.83\n",
      "Time: 6700.0 SoC: 0.62778 Current: 1.0 Voltage: 3.82 Discharge capacity: 1.86\n",
      "Time: 6800.0 SoC: 0.62222 Current: 1.0 Voltage: 3.82 Discharge capacity: 1.89\n",
      "Time: 6900.0 SoC: 0.61667 Current: 1.0 Voltage: 3.81 Discharge capacity: 1.92\n",
      "Time: 7000.0 SoC: 0.61111 Current: 1.0 Voltage: 3.81 Discharge capacity: 1.94\n",
      "Time: 7100.0 SoC: 0.60556 Current: 1.0 Voltage: 3.8 Discharge capacity: 1.97\n",
      "Time: 7200.0 SoC: 0.6 Current: 1.0 Voltage: 3.8 Discharge capacity: 2.0\n",
      "Time: 7300.0 SoC: 0.59444 Current: 1.0 Voltage: 3.79 Discharge capacity: 2.03\n",
      "Time: 7400.0 SoC: 0.58889 Current: 1.0 Voltage: 3.79 Discharge capacity: 2.06\n",
      "Time: 7500.0 SoC: 0.58333 Current: 1.0 Voltage: 3.78 Discharge capacity: 2.08\n",
      "Time: 7600.0 SoC: 0.57778 Current: 1.0 Voltage: 3.78 Discharge capacity: 2.11\n",
      "Time: 7700.0 SoC: 0.57222 Current: 1.0 Voltage: 3.77 Discharge capacity: 2.14\n",
      "Time: 7800.0 SoC: 0.56667 Current: 1.0 Voltage: 3.77 Discharge capacity: 2.17\n",
      "Time: 7900.0 SoC: 0.56111 Current: 1.0 Voltage: 3.76 Discharge capacity: 2.19\n",
      "Time: 8000.0 SoC: 0.55556 Current: 1.0 Voltage: 3.76 Discharge capacity: 2.22\n",
      "Time: 8100.0 SoC: 0.55 Current: 1.0 Voltage: 3.75 Discharge capacity: 2.25\n",
      "Time: 8200.0 SoC: 0.54444 Current: 1.0 Voltage: 3.75 Discharge capacity: 2.28\n",
      "Time: 8300.0 SoC: 0.53889 Current: 1.0 Voltage: 3.74 Discharge capacity: 2.31\n",
      "Time: 8400.0 SoC: 0.53333 Current: 1.0 Voltage: 3.74 Discharge capacity: 2.33\n",
      "Time: 8500.0 SoC: 0.52778 Current: 1.0 Voltage: 3.73 Discharge capacity: 2.36\n",
      "Time: 8600.0 SoC: 0.52222 Current: 1.0 Voltage: 3.73 Discharge capacity: 2.39\n",
      "Time: 8700.0 SoC: 0.51667 Current: 1.0 Voltage: 3.72 Discharge capacity: 2.42\n",
      "Time: 8800.0 SoC: 0.51111 Current: 1.0 Voltage: 3.72 Discharge capacity: 2.44\n",
      "Time: 8900.0 SoC: 0.50556 Current: 1.0 Voltage: 3.71 Discharge capacity: 2.47\n",
      "Time: 9000.0 SoC: 0.5 Current: 1.0 Voltage: 3.71 Discharge capacity: 2.5\n",
      "Time: 9100.0 SoC: 0.49444 Current: 1.0 Voltage: 3.7 Discharge capacity: 2.53\n",
      "Time: 9200.0 SoC: 0.48889 Current: 1.0 Voltage: 3.7 Discharge capacity: 2.56\n",
      "Time: 9300.0 SoC: 0.48333 Current: 1.0 Voltage: 3.69 Discharge capacity: 2.58\n",
      "Time: 9400.0 SoC: 0.47778 Current: 1.0 Voltage: 3.69 Discharge capacity: 2.61\n",
      "Time: 9500.0 SoC: 0.47222 Current: 1.0 Voltage: 3.68 Discharge capacity: 2.64\n",
      "Time: 9600.0 SoC: 0.46667 Current: 1.0 Voltage: 3.68 Discharge capacity: 2.67\n",
      "Time: 9700.0 SoC: 0.46111 Current: 1.0 Voltage: 3.67 Discharge capacity: 2.69\n",
      "Time: 9800.0 SoC: 0.45556 Current: 1.0 Voltage: 3.67 Discharge capacity: 2.72\n",
      "Time: 9900.0 SoC: 0.45 Current: 1.0 Voltage: 3.66 Discharge capacity: 2.75\n",
      "Time: 10000.0 SoC: 0.44444 Current: 1.0 Voltage: 3.66 Discharge capacity: 2.78\n",
      "Time: 10100.0 SoC: 0.43889 Current: 1.0 Voltage: 3.66 Discharge capacity: 2.81\n",
      "Time: 10200.0 SoC: 0.43333 Current: 1.0 Voltage: 3.65 Discharge capacity: 2.83\n",
      "Time: 10300.0 SoC: 0.42778 Current: 1.0 Voltage: 3.65 Discharge capacity: 2.86\n",
      "Time: 10400.0 SoC: 0.42222 Current: 1.0 Voltage: 3.64 Discharge capacity: 2.89\n",
      "Time: 10500.0 SoC: 0.41667 Current: 1.0 Voltage: 3.64 Discharge capacity: 2.92\n",
      "Time: 10600.0 SoC: 0.41111 Current: 1.0 Voltage: 3.64 Discharge capacity: 2.94\n",
      "Time: 10700.0 SoC: 0.40556 Current: 1.0 Voltage: 3.63 Discharge capacity: 2.97\n",
      "Time: 10800.0 SoC: 0.4 Current: 1.0 Voltage: 3.63 Discharge capacity: 3.0\n",
      "Time: 10900.0 SoC: 0.39444 Current: 1.0 Voltage: 3.62 Discharge capacity: 3.03\n",
      "Time: 11000.0 SoC: 0.38889 Current: 1.0 Voltage: 3.62 Discharge capacity: 3.06\n",
      "Time: 11100.0 SoC: 0.38333 Current: 1.0 Voltage: 3.62 Discharge capacity: 3.08\n",
      "Time: 11200.0 SoC: 0.37778 Current: 1.0 Voltage: 3.61 Discharge capacity: 3.11\n",
      "Time: 11300.0 SoC: 0.37222 Current: 1.0 Voltage: 3.61 Discharge capacity: 3.14\n",
      "Time: 11400.0 SoC: 0.36667 Current: 1.0 Voltage: 3.61 Discharge capacity: 3.17\n",
      "Time: 11500.0 SoC: 0.36111 Current: 1.0 Voltage: 3.6 Discharge capacity: 3.19\n",
      "Time: 11600.0 SoC: 0.35556 Current: 1.0 Voltage: 3.6 Discharge capacity: 3.22\n",
      "Time: 11700.0 SoC: 0.35 Current: 1.0 Voltage: 3.59 Discharge capacity: 3.25\n",
      "Time: 11800.0 SoC: 0.34444 Current: 1.0 Voltage: 3.59 Discharge capacity: 3.28\n",
      "Time: 11900.0 SoC: 0.33889 Current: 1.0 Voltage: 3.59 Discharge capacity: 3.31\n",
      "Time: 12000.0 SoC: 0.33333 Current: 1.0 Voltage: 3.58 Discharge capacity: 3.33\n",
      "Time: 12100.0 SoC: 0.32778 Current: 1.0 Voltage: 3.58 Discharge capacity: 3.36\n",
      "Time: 12200.0 SoC: 0.32222 Current: 1.0 Voltage: 3.57 Discharge capacity: 3.39\n",
      "Time: 12300.0 SoC: 0.31667 Current: 1.0 Voltage: 3.57 Discharge capacity: 3.42\n",
      "Time: 12400.0 SoC: 0.31111 Current: 1.0 Voltage: 3.56 Discharge capacity: 3.44\n",
      "Time: 12500.0 SoC: 0.30556 Current: 1.0 Voltage: 3.56 Discharge capacity: 3.47\n",
      "Time: 12600.0 SoC: 0.3 Current: 1.0 Voltage: 3.55 Discharge capacity: 3.5\n",
      "Time: 12700.0 SoC: 0.29444 Current: 1.0 Voltage: 3.55 Discharge capacity: 3.53\n",
      "Time: 12800.0 SoC: 0.28889 Current: 1.0 Voltage: 3.54 Discharge capacity: 3.56\n",
      "Time: 12900.0 SoC: 0.28333 Current: 1.0 Voltage: 3.53 Discharge capacity: 3.58\n",
      "Time: 13000.0 SoC: 0.27778 Current: 1.0 Voltage: 3.53 Discharge capacity: 3.61\n",
      "Time: 13100.0 SoC: 0.27222 Current: 1.0 Voltage: 3.52 Discharge capacity: 3.64\n",
      "Time: 13200.0 SoC: 0.26667 Current: 1.0 Voltage: 3.52 Discharge capacity: 3.67\n",
      "Time: 13300.0 SoC: 0.26111 Current: 1.0 Voltage: 3.51 Discharge capacity: 3.69\n",
      "Time: 13400.0 SoC: 0.25556 Current: 1.0 Voltage: 3.51 Discharge capacity: 3.72\n",
      "Time: 13500.0 SoC: 0.25 Current: 1.0 Voltage: 3.5 Discharge capacity: 3.75\n",
      "Time: 13600.0 SoC: 0.24444 Current: 1.0 Voltage: 3.49 Discharge capacity: 3.78\n",
      "Time: 13700.0 SoC: 0.23889 Current: 1.0 Voltage: 3.49 Discharge capacity: 3.81\n",
      "Time: 13800.0 SoC: 0.23333 Current: 1.0 Voltage: 3.48 Discharge capacity: 3.83\n",
      "Time: 13900.0 SoC: 0.22778 Current: 1.0 Voltage: 3.48 Discharge capacity: 3.86\n",
      "Time: 14000.0 SoC: 0.22222 Current: 1.0 Voltage: 3.47 Discharge capacity: 3.89\n",
      "Time: 14100.0 SoC: 0.21667 Current: 1.0 Voltage: 3.47 Discharge capacity: 3.92\n",
      "Time: 14200.0 SoC: 0.21111 Current: 1.0 Voltage: 3.46 Discharge capacity: 3.94\n",
      "Time: 14300.0 SoC: 0.20556 Current: 1.0 Voltage: 3.46 Discharge capacity: 3.97\n",
      "Time: 14400.0 SoC: 0.2 Current: 1.0 Voltage: 3.45 Discharge capacity: 4.0\n",
      "Time: 14500.0 SoC: 0.19444 Current: 1.0 Voltage: 3.45 Discharge capacity: 4.03\n",
      "Time: 14600.0 SoC: 0.18889 Current: 1.0 Voltage: 3.44 Discharge capacity: 4.06\n",
      "Time: 14700.0 SoC: 0.18333 Current: 1.0 Voltage: 3.44 Discharge capacity: 4.08\n",
      "Time: 14800.0 SoC: 0.17778 Current: 1.0 Voltage: 3.43 Discharge capacity: 4.11\n",
      "Time: 14900.0 SoC: 0.17222 Current: 1.0 Voltage: 3.43 Discharge capacity: 4.14\n",
      "Time: 15000.0 SoC: 0.16667 Current: 1.0 Voltage: 3.42 Discharge capacity: 4.17\n",
      "Time: 15100.0 SoC: 0.16111 Current: 1.0 Voltage: 3.42 Discharge capacity: 4.19\n",
      "Time: 15200.0 SoC: 0.15556 Current: 1.0 Voltage: 3.41 Discharge capacity: 4.22\n",
      "Time: 15300.0 SoC: 0.15 Current: 1.0 Voltage: 3.41 Discharge capacity: 4.25\n",
      "Time: 15400.0 SoC: 0.14444 Current: 1.0 Voltage: 3.4 Discharge capacity: 4.28\n",
      "Time: 15500.0 SoC: 0.13889 Current: 1.0 Voltage: 3.4 Discharge capacity: 4.31\n",
      "Time: 15600.0 SoC: 0.13333 Current: 1.0 Voltage: 3.39 Discharge capacity: 4.33\n",
      "Time: 15700.0 SoC: 0.12778 Current: 1.0 Voltage: 3.38 Discharge capacity: 4.36\n",
      "Time: 15800.0 SoC: 0.12222 Current: 1.0 Voltage: 3.37 Discharge capacity: 4.39\n",
      "Time: 15900.0 SoC: 0.11667 Current: 1.0 Voltage: 3.36 Discharge capacity: 4.42\n",
      "Time: 16000.0 SoC: 0.11111 Current: 1.0 Voltage: 3.35 Discharge capacity: 4.44\n",
      "Time: 16100.0 SoC: 0.10556 Current: 1.0 Voltage: 3.33 Discharge capacity: 4.47\n",
      "Time: 16200.0 SoC: 0.1 Current: 1.0 Voltage: 3.32 Discharge capacity: 4.5\n",
      "Time: 16300.0 SoC: 0.09444 Current: 1.0 Voltage: 3.3 Discharge capacity: 4.53\n",
      "Time: 16400.0 SoC: 0.08889 Current: 1.0 Voltage: 3.28 Discharge capacity: 4.56\n",
      "Time: 16500.0 SoC: 0.08333 Current: 1.0 Voltage: 3.26 Discharge capacity: 4.58\n",
      "Time: 16600.0 SoC: 0.07778 Current: 1.0 Voltage: 3.24 Discharge capacity: 4.61\n",
      "Time: 16700.0 SoC: 0.07222 Current: 1.0 Voltage: 3.23 Discharge capacity: 4.64\n",
      "Time: 16800.0 SoC: 0.06667 Current: 1.0 Voltage: 3.21 Discharge capacity: 4.67\n",
      "Time: 16900.0 SoC: 0.06111 Current: 1.0 Voltage: 3.19 Discharge capacity: 4.69\n",
      "Time: 17000.0 SoC: 0.05556 Current: 1.0 Voltage: 3.17 Discharge capacity: 4.72\n",
      "Time: 17100.0 SoC: 0.05 Current: 1.0 Voltage: 3.15 Discharge capacity: 4.75\n",
      "Time: 17200.0 SoC: 0.04444 Current: 1.0 Voltage: 3.13 Discharge capacity: 4.78\n",
      "Time: 17300.0 SoC: 0.03889 Current: 1.0 Voltage: 3.11 Discharge capacity: 4.81\n",
      "Time: 17400.0 SoC: 0.03333 Current: 1.0 Voltage: 3.09 Discharge capacity: 4.83\n",
      "Time: 17500.0 SoC: 0.02778 Current: 1.0 Voltage: 3.06 Discharge capacity: 4.86\n",
      "Time: 17600.0 SoC: 0.02222 Current: 1.0 Voltage: 3.03 Discharge capacity: 4.89\n",
      "Time: 17700.0 SoC: 0.01667 Current: 1.0 Voltage: 3.0 Discharge capacity: 4.92\n",
      "Time: 17800.0 SoC: 0.01111 Current: 1.0 Voltage: 2.96 Discharge capacity: 4.94\n",
      "Time: 17900.0 SoC: 0.00556 Current: 1.0 Voltage: 2.92 Discharge capacity: 4.97\n",
      "Time: 18000.0 SoC: 0.0 Current: 1.0 Voltage: 2.86 Discharge capacity: 5.0\n",
      "Time: 18100.0 SoC: -0.00556 Current: 1.0 Voltage: 2.8 Discharge capacity: 5.03\n",
      "Time: 18200.0 SoC: -0.01111 Current: 1.0 Voltage: 2.72 Discharge capacity: 5.06\n",
      "Time: 18300.0 SoC: -0.01667 Current: 1.0 Voltage: 2.63 Discharge capacity: 5.08\n",
      "Time: 18400.0 SoC: -0.02222 Current: 1.0 Voltage: 2.52 Discharge capacity: 5.11\n",
      "Time: 18419.810841398037 SoC: -0.02332 Current: 1.0 Voltage: 2.5 Discharge capacity: 5.12\n",
      "Lower cut-off voltage of 2.5 [V] was reached!\n"
     ]
    },
    {
     "data": {
      "text/plain": "interactive(children=(FloatSlider(value=0.0, description='t', max=5.1166141226105655, step=0.05116614122610565…",
      "application/vnd.jupyter.widget-view+json": {
       "version_major": 2,
       "version_minor": 0,
       "model_id": "f09e360cb52d4456a1b408e3178911d6"
      }
     },
     "metadata": {},
     "output_type": "display_data"
    },
    {
     "data": {
      "text/plain": "<pybamm.plotting.quick_plot.QuickPlot at 0x1769ec3f820>"
     },
     "execution_count": 18,
     "metadata": {},
     "output_type": "execute_result"
    }
   ],
   "source": [
    "step = 0\n",
    "while step < int(final_time/time_step): \n",
    "    sim.step(dt=time_step,npts = 2, save=True, inputs={'Current function [A]': i[step]})\n",
    "    solution = sim.solution\n",
    "    n = len(solution[\"Time [s]\"].entries)-1\n",
    "    time = solution[\"Time [s]\"].entries[n]\n",
    "    current = solution['Current [A]'].entries[n]\n",
    "    discharge_capacity = solution['Discharge capacity [A.h]'].entries[n]\n",
    "    soc = soc_0 - discharge_capacity/param['Nominal cell capacity [A.h]']\n",
    "    voltage = round(solution['Voltage [V]'].entries[n],2)\n",
    "    current = solution['Current [A]'].entries[n]\n",
    "    print('Time:', time,'SoC:', round(soc,5), 'Current:',round(current,2),'Voltage:', voltage,'Discharge capacity:',round(discharge_capacity,2))\n",
    "    if voltage == param['Upper voltage cut-off [V]']:\n",
    "        print('Upper cut-off voltage of', param['Upper voltage cut-off [V]'], '[V] was reached!')\n",
    "        break\n",
    "    if voltage == param['Lower voltage cut-off [V]']:\n",
    "        print('Lower cut-off voltage of', param['Lower voltage cut-off [V]'], '[V] was reached!')\n",
    "        break\n",
    "    step += 1\n",
    "sim.plot([\"Current [A]\", \"Voltage [V]\"])"
   ]
  },
  {
   "cell_type": "code",
   "execution_count": 19,
   "id": "637ecbdc",
   "metadata": {
    "ExecuteTime": {
     "end_time": "2023-07-04T10:10:58.888774Z",
     "start_time": "2023-07-04T10:10:58.877780Z"
    }
   },
   "outputs": [],
   "source": [
    "solution = sim.solution"
   ]
  },
  {
   "cell_type": "code",
   "execution_count": 20,
   "id": "2f159f89",
   "metadata": {
    "ExecuteTime": {
     "end_time": "2023-07-04T10:10:58.962298900Z",
     "start_time": "2023-07-04T10:10:58.889773900Z"
    }
   },
   "outputs": [
    {
     "data": {
      "text/plain": "600"
     },
     "execution_count": 20,
     "metadata": {},
     "output_type": "execute_result"
    }
   ],
   "source": [
    "len(i)"
   ]
  },
  {
   "cell_type": "code",
   "execution_count": 21,
   "id": "dc8266b5",
   "metadata": {
    "ExecuteTime": {
     "end_time": "2023-07-04T10:10:59.012315600Z",
     "start_time": "2023-07-04T10:10:58.912782Z"
    }
   },
   "outputs": [],
   "source": [
    "time = solution[\"Time [s]\"].entries\n",
    "soc = soc_0 - solution['Discharge capacity [A.h]'].entries/param['Nominal cell capacity [A.h]']\n",
    "voltage = solution['Voltage [V]']\n",
    "discharge_capacity = solution['Discharge capacity [A.h]'].entries\n"
   ]
  },
  {
   "cell_type": "code",
   "execution_count": 22,
   "id": "2ae0e3ad",
   "metadata": {
    "scrolled": false,
    "ExecuteTime": {
     "end_time": "2023-07-04T10:10:59.289693700Z",
     "start_time": "2023-07-04T10:10:58.922301600Z"
    }
   },
   "outputs": [
    {
     "data": {
      "text/plain": "[<matplotlib.lines.Line2D at 0x1769edd1ae0>]"
     },
     "execution_count": 22,
     "metadata": {},
     "output_type": "execute_result"
    },
    {
     "data": {
      "text/plain": "<Figure size 640x480 with 1 Axes>",
      "image/png": "[encoded data removed]"
     },
     "metadata": {},
     "output_type": "display_data"
    }
   ],
   "source": [
    "plt.plot(time,soc)"
   ]
  },
  {
   "cell_type": "code",
   "execution_count": 23,
   "id": "42fa00a2",
   "metadata": {
    "ExecuteTime": {
     "end_time": "2023-07-04T10:10:59.291693200Z",
     "start_time": "2023-07-04T10:10:59.273729600Z"
    }
   },
   "outputs": [
    {
     "data": {
      "text/plain": "array([    0.       ,   100.       ,   100.       ,   200.       ,\n         200.       ,   300.       ,   300.       ,   400.       ,\n         400.       ,   500.       ,   500.       ,   600.       ,\n         600.       ,   700.       ,   700.       ,   800.       ,\n         800.       ,   900.       ,   900.       ,  1000.       ,\n        1000.       ,  1100.       ,  1100.       ,  1200.       ,\n        1200.       ,  1300.       ,  1300.       ,  1400.       ,\n        1400.       ,  1500.       ,  1500.       ,  1600.       ,\n        1600.       ,  1700.       ,  1700.       ,  1800.       ,\n        1800.       ,  1900.       ,  1900.       ,  2000.       ,\n        2000.       ,  2100.       ,  2100.       ,  2200.       ,\n        2200.       ,  2300.       ,  2300.       ,  2400.       ,\n        2400.       ,  2500.       ,  2500.       ,  2600.       ,\n        2600.       ,  2700.       ,  2700.       ,  2800.       ,\n        2800.       ,  2900.       ,  2900.       ,  3000.       ,\n        3000.       ,  3100.       ,  3100.       ,  3200.       ,\n        3200.       ,  3300.       ,  3300.       ,  3400.       ,\n        3400.       ,  3500.       ,  3500.       ,  3600.       ,\n        3600.       ,  3700.       ,  3700.       ,  3800.       ,\n        3800.       ,  3900.       ,  3900.       ,  4000.       ,\n        4000.       ,  4100.       ,  4100.       ,  4200.       ,\n        4200.       ,  4300.       ,  4300.       ,  4400.       ,\n        4400.       ,  4500.       ,  4500.       ,  4600.       ,\n        4600.       ,  4700.       ,  4700.       ,  4800.       ,\n        4800.       ,  4900.       ,  4900.       ,  5000.       ,\n        5000.       ,  5100.       ,  5100.       ,  5200.       ,\n        5200.       ,  5300.       ,  5300.       ,  5400.       ,\n        5400.       ,  5500.       ,  5500.       ,  5600.       ,\n        5600.       ,  5700.       ,  5700.       ,  5800.       ,\n        5800.       ,  5900.       ,  5900.       ,  6000.       ,\n        6000.       ,  6100.       ,  6100.       ,  6200.       ,\n        6200.       ,  6300.       ,  6300.       ,  6400.       ,\n        6400.       ,  6500.       ,  6500.       ,  6600.       ,\n        6600.       ,  6700.       ,  6700.       ,  6800.       ,\n        6800.       ,  6900.       ,  6900.       ,  7000.       ,\n        7000.       ,  7100.       ,  7100.       ,  7200.       ,\n        7200.       ,  7300.       ,  7300.       ,  7400.       ,\n        7400.       ,  7500.       ,  7500.       ,  7600.       ,\n        7600.       ,  7700.       ,  7700.       ,  7800.       ,\n        7800.       ,  7900.       ,  7900.       ,  8000.       ,\n        8000.       ,  8100.       ,  8100.       ,  8200.       ,\n        8200.       ,  8300.       ,  8300.       ,  8400.       ,\n        8400.       ,  8500.       ,  8500.       ,  8600.       ,\n        8600.       ,  8700.       ,  8700.       ,  8800.       ,\n        8800.       ,  8900.       ,  8900.       ,  9000.       ,\n        9000.       ,  9100.       ,  9100.       ,  9200.       ,\n        9200.       ,  9300.       ,  9300.       ,  9400.       ,\n        9400.       ,  9500.       ,  9500.       ,  9600.       ,\n        9600.       ,  9700.       ,  9700.       ,  9800.       ,\n        9800.       ,  9900.       ,  9900.       , 10000.       ,\n       10000.       , 10100.       , 10100.       , 10200.       ,\n       10200.       , 10300.       , 10300.       , 10400.       ,\n       10400.       , 10500.       , 10500.       , 10600.       ,\n       10600.       , 10700.       , 10700.       , 10800.       ,\n       10800.       , 10900.       , 10900.       , 11000.       ,\n       11000.       , 11100.       , 11100.       , 11200.       ,\n       11200.       , 11300.       , 11300.       , 11400.       ,\n       11400.       , 11500.       , 11500.       , 11600.       ,\n       11600.       , 11700.       , 11700.       , 11800.       ,\n       11800.       , 11900.       , 11900.       , 12000.       ,\n       12000.       , 12100.       , 12100.       , 12200.       ,\n       12200.       , 12300.       , 12300.       , 12400.       ,\n       12400.       , 12500.       , 12500.       , 12600.       ,\n       12600.       , 12700.       , 12700.       , 12800.       ,\n       12800.       , 12900.       , 12900.       , 13000.       ,\n       13000.       , 13100.       , 13100.       , 13200.       ,\n       13200.       , 13300.       , 13300.       , 13400.       ,\n       13400.       , 13500.       , 13500.       , 13600.       ,\n       13600.       , 13700.       , 13700.       , 13800.       ,\n       13800.       , 13900.       , 13900.       , 14000.       ,\n       14000.       , 14100.       , 14100.       , 14200.       ,\n       14200.       , 14300.       , 14300.       , 14400.       ,\n       14400.       , 14500.       , 14500.       , 14600.       ,\n       14600.       , 14700.       , 14700.       , 14800.       ,\n       14800.       , 14900.       , 14900.       , 15000.       ,\n       15000.       , 15100.       , 15100.       , 15200.       ,\n       15200.       , 15300.       , 15300.       , 15400.       ,\n       15400.       , 15500.       , 15500.       , 15600.       ,\n       15600.       , 15700.       , 15700.       , 15800.       ,\n       15800.       , 15900.       , 15900.       , 16000.       ,\n       16000.       , 16100.       , 16100.       , 16200.       ,\n       16200.       , 16300.       , 16300.       , 16400.       ,\n       16400.       , 16500.       , 16500.       , 16600.       ,\n       16600.       , 16700.       , 16700.       , 16800.       ,\n       16800.       , 16900.       , 16900.       , 17000.       ,\n       17000.       , 17100.       , 17100.       , 17200.       ,\n       17200.       , 17300.       , 17300.       , 17400.       ,\n       17400.       , 17500.       , 17500.       , 17600.       ,\n       17600.       , 17700.       , 17700.       , 17800.       ,\n       17800.       , 17900.       , 17900.       , 18000.       ,\n       18000.       , 18100.       , 18100.       , 18200.       ,\n       18200.       , 18300.       , 18300.       , 18400.       ,\n       18400.       , 18419.8108414])"
     },
     "execution_count": 23,
     "metadata": {},
     "output_type": "execute_result"
    }
   ],
   "source": [
    "time"
   ]
  },
  {
   "cell_type": "code",
   "execution_count": 24,
   "id": "0f707f6f",
   "metadata": {
    "ExecuteTime": {
     "end_time": "2023-07-04T10:10:59.296700300Z",
     "start_time": "2023-07-04T10:10:59.290699300Z"
    }
   },
   "outputs": [
    {
     "data": {
      "text/plain": "array([4.15534703, 4.11892271, 4.11892271, 4.10458598, 4.10458598,\n       4.09409644, 4.09409644, 4.08572935, 4.08572935, 4.07887751,\n       4.07887751, 4.07323828, 4.07323828, 4.06861319, 4.06861319,\n       4.06485495, 4.06485495, 4.06184093, 4.06184093, 4.05945705,\n       4.05945705, 4.05759523, 4.05759523, 4.05614897, 4.05614897,\n       4.05501297, 4.05501297, 4.05408409, 4.05408409, 4.05326303,\n       4.05326303, 4.05245655, 4.05245655, 4.05157953, 4.05157953,\n       4.05055693, 4.05055693, 4.04932528, 4.04932528, 4.04783362,\n       4.04783362, 4.04604383, 4.04604383, 4.04393048, 4.04393048,\n       4.04148018, 4.04148018, 4.03869043, 4.03869043, 4.03556832,\n       4.03556832, 4.03212899, 4.03212899, 4.02839397, 4.02839397,\n       4.02438961, 4.02438961, 4.02014559, 4.02014559, 4.01569352,\n       4.01569352, 4.0110657 , 4.0110657 , 4.00629423, 4.00629423,\n       4.00141003, 4.00141003, 3.99644235, 3.99644235, 3.99141817,\n       3.99141817, 3.98636198, 3.98636198, 3.9812955 , 3.9812955 ,\n       3.97623762, 3.97623762, 3.97120436, 3.97120436, 3.96620886,\n       3.96620886, 3.96126148, 3.96126148, 3.95636981, 3.95636981,\n       3.95153872, 3.95153872, 3.94677038, 3.94677038, 3.94206418,\n       3.94206418, 3.93741663, 3.93741663, 3.93282114, 3.93282114,\n       3.92826765, 3.92826765, 3.92374225, 3.92374225, 3.9192266 ,\n       3.9192266 , 3.91469727, 3.91469727, 3.91012526, 3.91012526,\n       3.90547555, 3.90547555, 3.90070734, 3.90070734, 3.89577527,\n       3.89577527, 3.89063221, 3.89063221, 3.88523431, 3.88523431,\n       3.87954846, 3.87954846, 3.8735616 , 3.8735616 , 3.86728987,\n       3.86728987, 3.86078439, 3.86078439, 3.85412996, 3.85412996,\n       3.8474348 , 3.8474348 , 3.84081313, 3.84081313, 3.83436566,\n       3.83436566, 3.82816445, 3.82816445, 3.82224608, 3.82224608,\n       3.81661344, 3.81661344, 3.81124328, 3.81124328, 3.80609586,\n       3.80609586, 3.8011238 , 3.8011238 , 3.79627878, 3.79627878,\n       3.79151577, 3.79151577, 3.78679538, 3.78679538, 3.7820847 ,\n       3.7820847 , 3.77735744, 3.77735744, 3.77259355, 3.77259355,\n       3.76777872, 3.76777872, 3.76290381, 3.76290381, 3.75796437,\n       3.75796437, 3.75296011, 3.75296011, 3.74789446, 3.74789446,\n       3.7427741 , 3.7427741 , 3.73760851, 3.73760851, 3.73240949,\n       3.73240949, 3.72719057, 3.72719057, 3.72196655, 3.72196655,\n       3.71675288, 3.71675288, 3.71156508, 3.71156508, 3.70641824,\n       3.70641824, 3.70132654, 3.70132654, 3.69630275, 3.69630275,\n       3.69135796, 3.69135796, 3.6865013 , 3.6865013 , 3.6817398 ,\n       3.6817398 , 3.67707829, 3.67707829, 3.67251944, 3.67251944,\n       3.66806385, 3.66806385, 3.66371014, 3.66371014, 3.65945519,\n       3.65945519, 3.65529424, 3.65529424, 3.65122115, 3.65122115,\n       3.64722855, 3.64722855, 3.64330803, 3.64330803, 3.63945028,\n       3.63945028, 3.6356452 , 3.6356452 , 3.63188203, 3.63188203,\n       3.62814943, 3.62814943, 3.6244355 , 3.6244355 , 3.62072785,\n       3.62072785, 3.61701364, 3.61701364, 3.6132796 , 3.6132796 ,\n       3.60951204, 3.60951204, 3.60569697, 3.60569697, 3.60182011,\n       3.60182011, 3.59786706, 3.59786706, 3.59382346, 3.59382346,\n       3.5896752 , 3.5896752 , 3.58540877, 3.58540877, 3.58101158,\n       3.58101158, 3.57647247, 3.57647247, 3.57178219, 3.57178219,\n       3.56693403, 3.56693403, 3.56192434, 3.56192434, 3.55675319,\n       3.55675319, 3.55142478, 3.55142478, 3.54594791, 3.54594791,\n       3.54033604, 3.54033604, 3.53460732, 3.53460732, 3.52878414,\n       3.52878414, 3.52289254, 3.52289254, 3.51696121, 3.51696121,\n       3.51102039, 3.51102039, 3.50510054, 3.50510054, 3.49923104,\n       3.49923104, 3.49343889, 3.49343889, 3.48774762, 3.48774762,\n       3.48217641, 3.48217641, 3.47673943, 3.47673943, 3.47144548,\n       3.47144548, 3.46629782, 3.46629782, 3.46129412, 3.46129412,\n       3.45642656, 3.45642656, 3.45168184, 3.45168184, 3.44704109,\n       3.44704109, 3.44247962, 3.44247962, 3.43796635, 3.43796635,\n       3.43346288, 3.43346288, 3.42892211, 3.42892211, 3.42428637,\n       3.42428637, 3.41948508, 3.41948508, 3.41443189, 3.41443189,\n       3.40902163, 3.40902163, 3.40312731, 3.40312731, 3.39659823,\n       3.39659823, 3.38926006, 3.38926006, 3.38091921, 3.38091921,\n       3.37137335, 3.37137335, 3.3604307 , 3.3604307 , 3.34793875,\n       3.34793875, 3.33382024, 3.33382024, 3.31810884, 3.31810884,\n       3.30097208, 3.30097208, 3.28270706, 3.28270706, 3.26370057,\n       3.26370057, 3.24435836, 3.24435836, 3.22502234, 3.22502234,\n       3.2059003 , 3.2059003 , 3.18702612, 3.18702612, 3.16825361,\n       3.16825361, 3.149275  , 3.149275  , 3.12964901, 3.12964901,\n       3.10882631, 3.10882631, 3.08616478, 3.08616478, 3.06093218,\n       3.06093218, 3.03229678, 3.03229678, 2.99930743, 2.99930743,\n       2.96086452, 2.96086452, 2.9156825 , 2.9156825 , 2.86224369,\n       2.86224369, 2.79874239, 2.79874239, 2.7230173 , 2.7230173 ,\n       2.63246894, 2.63246894, 2.52395719, 2.52395719, 2.50001027])"
     },
     "execution_count": 24,
     "metadata": {},
     "output_type": "execute_result"
    }
   ],
   "source": [
    "solution[\"Voltage [V]\"].entries"
   ]
  },
  {
   "cell_type": "code",
   "execution_count": 24,
   "id": "6691b2af",
   "metadata": {
    "ExecuteTime": {
     "end_time": "2023-07-04T10:10:59.408392900Z",
     "start_time": "2023-07-04T10:10:59.297699300Z"
    }
   },
   "outputs": [],
   "source": []
  },
  {
   "cell_type": "code",
   "execution_count": 24,
   "outputs": [],
   "source": [],
   "metadata": {
    "collapsed": false,
    "ExecuteTime": {
     "end_time": "2023-07-04T10:10:59.408392900Z",
     "start_time": "2023-07-04T10:10:59.317234400Z"
    }
   }
  },
  {
   "cell_type": "code",
   "execution_count": null,
   "outputs": [],
   "source": [],
   "metadata": {
    "collapsed": false
   }
  }
 ],
 "metadata": {
  "kernelspec": {
   "display_name": "battery_model",
   "language": "python",
   "name": "battery_model"
  },
  "language_info": {
   "codemirror_mode": {
    "name": "ipython",
    "version": 3
   },
   "file_extension": ".py",
   "mimetype": "text/x-python",
   "name": "python",
   "nbconvert_exporter": "python",
   "pygments_lexer": "ipython3",
   "version": "3.10.11"
  }
 },
 "nbformat": 4,
 "nbformat_minor": 5
}
