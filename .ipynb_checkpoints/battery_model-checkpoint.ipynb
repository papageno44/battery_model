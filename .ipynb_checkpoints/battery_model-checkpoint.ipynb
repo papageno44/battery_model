{
 "cells": [
  {
   "cell_type": "code",
   "execution_count": null,
   "id": "1214e908",
   "metadata": {},
   "outputs": [],
   "source": [
    "import pybamm\n",
    "import random\n",
    "import numpy as np\n",
    "import matplotlib.pyplot as plt"
   ]
  },
  {
   "cell_type": "code",
   "execution_count": null,
   "id": "86aa1232",
   "metadata": {},
   "outputs": [],
   "source": [
    "model = pybamm.lithium_ion.DFN()\n",
    "param = pybamm.ParameterValues(\"Chen2020\")\n",
    "param[\"Current function [A]\"] = \"[input]\""
   ]
  },
  {
   "cell_type": "code",
   "execution_count": null,
   "id": "3cba57bd",
   "metadata": {},
   "outputs": [],
   "source": [
    "time_step = 100 #[s]\n",
    "final_time =60000 #[s]\n",
    "max_step = int(final_time/time_step)\n",
    "#i = [random.randint(-2, 2) for _ in range(max_step)]\n",
    "i = [1 for _ in range(max_step)]\n",
    "soc_0 = param['Initial concentration in negative electrode [mol.m-3]']/param['Maximum concentration in negative electrode [mol.m-3]']"
   ]
  },
  {
   "cell_type": "code",
   "execution_count": null,
   "id": "80e10986",
   "metadata": {},
   "outputs": [],
   "source": [
    "soc_0 = 0.5"
   ]
  },
  {
   "cell_type": "code",
   "execution_count": null,
   "id": "3051aca9",
   "metadata": {},
   "outputs": [],
   "source": [
    "sim = pybamm.Simulation(model, parameter_values=param)\n",
    "sim.build(check_model=True, initial_soc=soc_0)"
   ]
  },
  {
   "cell_type": "code",
   "execution_count": null,
   "id": "f98b8424",
   "metadata": {
    "scrolled": true
   },
   "outputs": [],
   "source": [
    "step = 0\n",
    "while step < int(final_time/time_step): \n",
    "    sim.step(dt=time_step,npts = 2, save=True, inputs={'Current function [A]': i[step]})\n",
    "    solution = sim.solution\n",
    "    time = solution[\"Time [s]\"].entries[2*step]\n",
    "    current = solution['Current [A]'].entries[2*step]\n",
    "    soc = soc_0 - solution['Discharge capacity [A.h]'].entries[2*step]/param['Nominal cell capacity [A.h]']\n",
    "    voltage = solution['Voltage [V]'].entries[step]\n",
    "    print('Time:', time,'SoC:', round(soc,5), 'Current:',round(i[step],2),'Voltage:', round(voltage,2))\n",
    "    step += 1\n",
    "sim.plot([\"Current [A]\", \"Voltage [V]\"])"
   ]
  },
  {
   "cell_type": "code",
   "execution_count": null,
   "id": "637ecbdc",
   "metadata": {},
   "outputs": [],
   "source": [
    "solution = sim.solution"
   ]
  },
  {
   "cell_type": "code",
   "execution_count": null,
   "id": "90f804a7",
   "metadata": {},
   "outputs": [],
   "source": [
    "len(i)"
   ]
  },
  {
   "cell_type": "code",
   "execution_count": null,
   "id": "dc8266b5",
   "metadata": {},
   "outputs": [],
   "source": [
    "time = solution[\"Time [s]\"].entries\n",
    "soc = soc_0 - solution['Discharge capacity [A.h]'].entries/param['Nominal cell capacity [A.h]']\n",
    "voltage = solution['Voltage [V]']\n",
    "discharge_capacity = solution['Discharge capacity [A.h]'].entries\n"
   ]
  },
  {
   "cell_type": "code",
   "execution_count": null,
   "id": "2ae0e3ad",
   "metadata": {
    "scrolled": false
   },
   "outputs": [],
   "source": [
    "plt.plot(time,soc)"
   ]
  },
  {
   "cell_type": "code",
   "execution_count": null,
   "id": "42fa00a2",
   "metadata": {},
   "outputs": [],
   "source": [
    "time"
   ]
  },
  {
   "cell_type": "code",
   "execution_count": null,
   "id": "e1d77b25",
   "metadata": {},
   "outputs": [],
   "source": [
    "solution.entries"
   ]
  },
  {
   "cell_type": "code",
   "execution_count": null,
   "id": "ee27044c",
   "metadata": {},
   "outputs": [],
   "source": []
  }
 ],
 "metadata": {
  "kernelspec": {
   "display_name": "battery_model",
   "language": "python",
   "name": "battery_model"
  },
  "language_info": {
   "codemirror_mode": {
    "name": "ipython",
    "version": 3
   },
   "file_extension": ".py",
   "mimetype": "text/x-python",
   "name": "python",
   "nbconvert_exporter": "python",
   "pygments_lexer": "ipython3",
   "version": "3.10.11"
  }
 },
 "nbformat": 4,
 "nbformat_minor": 5
}
