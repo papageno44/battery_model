{
 "cells": [
  {
   "cell_type": "code",
   "execution_count": 17,
   "id": "1214e908",
   "metadata": {},
   "outputs": [],
   "source": [
    "import pybamm\n",
    "import random\n",
    "import numpy as np\n",
    "import matplotlib.pyplot as plt"
   ]
  },
  {
   "cell_type": "code",
   "execution_count": 23,
   "id": "cea9af27",
   "metadata": {},
   "outputs": [
    {
     "data": {
      "text/plain": [
       "{'Ambient temperature [K]': 298.15,\n",
       " 'Boltzmann constant [J.K-1]': 1.380649e-23,\n",
       " 'Bulk solvent concentration [mol.m-3]': 2636.0,\n",
       " 'Cation transference number': 0.2594,\n",
       " 'Cell cooling surface area [m2]': 0.00531,\n",
       " 'Cell thermal expansion coefficient [m.K-1]': 1.1e-06,\n",
       " 'Cell volume [m3]': 2.42e-05,\n",
       " 'Contact resistance [Ohm]': 0,\n",
       " 'Current function [A]': InputParameter(0x71ea0c022c969445, Current function [A], children=[], domains={}),\n",
       " 'EC diffusivity [m2.s-1]': 2e-18,\n",
       " 'EC initial concentration in electrolyte [mol.m-3]': 4541.0,\n",
       " 'Electrode height [m]': 0.065,\n",
       " 'Electrode width [m]': 1.58,\n",
       " 'Electrolyte conductivity [S.m-1]': <function electrolyte_conductivity_Nyman2008 at 0x000001DF2BD72F80>,\n",
       " 'Electrolyte diffusivity [m2.s-1]': <function electrolyte_diffusivity_Nyman2008 at 0x000001DF2BD72EF0>,\n",
       " 'Electron charge [C]': 1.602176634e-19,\n",
       " 'Faraday constant [C.mol-1]': 96485.33212,\n",
       " 'Ideal gas constant [J.K-1.mol-1]': 8.314462618,\n",
       " 'Initial concentration in electrolyte [mol.m-3]': 1000.0,\n",
       " 'Initial concentration in negative electrode [mol.m-3]': 29866.0,\n",
       " 'Initial concentration in positive electrode [mol.m-3]': 17038.0,\n",
       " 'Initial inner SEI thickness [m]': 2.5e-09,\n",
       " 'Initial outer SEI thickness [m]': 2.5e-09,\n",
       " 'Initial temperature [K]': 298.15,\n",
       " 'Inner SEI electron conductivity [S.m-1]': 8.95e-14,\n",
       " 'Inner SEI lithium interstitial diffusivity [m2.s-1]': 1e-20,\n",
       " 'Inner SEI open-circuit potential [V]': 0.1,\n",
       " 'Inner SEI partial molar volume [m3.mol-1]': 9.585e-05,\n",
       " 'Inner SEI reaction proportion': 0.5,\n",
       " 'Lithium interstitial reference concentration [mol.m-3]': 15.0,\n",
       " 'Lower voltage cut-off [V]': 2.5,\n",
       " 'Maximum concentration in negative electrode [mol.m-3]': 33133.0,\n",
       " 'Maximum concentration in positive electrode [mol.m-3]': 63104.0,\n",
       " 'Negative current collector conductivity [S.m-1]': 58411000.0,\n",
       " 'Negative current collector density [kg.m-3]': 8960.0,\n",
       " 'Negative current collector specific heat capacity [J.kg-1.K-1]': 385.0,\n",
       " 'Negative current collector thermal conductivity [W.m-1.K-1]': 401.0,\n",
       " 'Negative current collector thickness [m]': 1.2e-05,\n",
       " 'Negative electrode Bruggeman coefficient (electrode)': 0,\n",
       " 'Negative electrode Bruggeman coefficient (electrolyte)': 1.5,\n",
       " 'Negative electrode OCP [V]': <function graphite_LGM50_ocp_Chen2020 at 0x000001DF2BD72C20>,\n",
       " 'Negative electrode OCP entropic change [V.K-1]': 0.0,\n",
       " 'Negative electrode active material volume fraction': 0.75,\n",
       " 'Negative electrode charge transfer coefficient': 0.5,\n",
       " 'Negative electrode conductivity [S.m-1]': 215.0,\n",
       " 'Negative electrode density [kg.m-3]': 1657.0,\n",
       " 'Negative electrode diffusivity [m2.s-1]': 3.3e-14,\n",
       " 'Negative electrode double-layer capacity [F.m-2]': 0.2,\n",
       " 'Negative electrode exchange-current density [A.m-2]': <function graphite_LGM50_electrolyte_exchange_current_density_Chen2020 at 0x000001DF2BD72D40>,\n",
       " 'Negative electrode porosity': 0.25,\n",
       " 'Negative electrode reaction-driven LAM factor [m3.mol-1]': 0.0,\n",
       " 'Negative electrode specific heat capacity [J.kg-1.K-1]': 700.0,\n",
       " 'Negative electrode thermal conductivity [W.m-1.K-1]': 1.7,\n",
       " 'Negative electrode thickness [m]': 8.52e-05,\n",
       " 'Negative particle radius [m]': 5.86e-06,\n",
       " 'Nominal cell capacity [A.h]': 5.0,\n",
       " 'Number of cells connected in series to make a battery': 1.0,\n",
       " 'Number of electrodes connected in parallel to make a cell': 1.0,\n",
       " 'Outer SEI open-circuit potential [V]': 0.8,\n",
       " 'Outer SEI partial molar volume [m3.mol-1]': 9.585e-05,\n",
       " 'Outer SEI solvent diffusivity [m2.s-1]': 2.5000000000000002e-22,\n",
       " 'Positive current collector conductivity [S.m-1]': 36914000.0,\n",
       " 'Positive current collector density [kg.m-3]': 2700.0,\n",
       " 'Positive current collector specific heat capacity [J.kg-1.K-1]': 897.0,\n",
       " 'Positive current collector thermal conductivity [W.m-1.K-1]': 237.0,\n",
       " 'Positive current collector thickness [m]': 1.6e-05,\n",
       " 'Positive electrode Bruggeman coefficient (electrode)': 0,\n",
       " 'Positive electrode Bruggeman coefficient (electrolyte)': 1.5,\n",
       " 'Positive electrode OCP [V]': <function nmc_LGM50_ocp_Chen2020 at 0x000001DF2BD72CB0>,\n",
       " 'Positive electrode OCP entropic change [V.K-1]': 0.0,\n",
       " 'Positive electrode active material volume fraction': 0.665,\n",
       " 'Positive electrode charge transfer coefficient': 0.5,\n",
       " 'Positive electrode conductivity [S.m-1]': 0.18,\n",
       " 'Positive electrode density [kg.m-3]': 3262.0,\n",
       " 'Positive electrode diffusivity [m2.s-1]': 4e-15,\n",
       " 'Positive electrode double-layer capacity [F.m-2]': 0.2,\n",
       " 'Positive electrode exchange-current density [A.m-2]': <function nmc_LGM50_electrolyte_exchange_current_density_Chen2020 at 0x000001DF2BD72E60>,\n",
       " 'Positive electrode porosity': 0.335,\n",
       " 'Positive electrode reaction-driven LAM factor [m3.mol-1]': 0.0,\n",
       " 'Positive electrode specific heat capacity [J.kg-1.K-1]': 700.0,\n",
       " 'Positive electrode thermal conductivity [W.m-1.K-1]': 2.1,\n",
       " 'Positive electrode thickness [m]': 7.56e-05,\n",
       " 'Positive particle radius [m]': 5.22e-06,\n",
       " 'Ratio of lithium moles to SEI moles': 2.0,\n",
       " 'Reference temperature [K]': 298.15,\n",
       " 'SEI growth activation energy [J.mol-1]': 0.0,\n",
       " 'SEI kinetic rate constant [m.s-1]': 1e-12,\n",
       " 'SEI open-circuit potential [V]': 0.4,\n",
       " 'SEI reaction exchange current density [A.m-2]': 1.5e-07,\n",
       " 'SEI resistivity [Ohm.m]': 200000.0,\n",
       " 'Separator Bruggeman coefficient (electrolyte)': 1.5,\n",
       " 'Separator density [kg.m-3]': 397.0,\n",
       " 'Separator porosity': 0.47,\n",
       " 'Separator specific heat capacity [J.kg-1.K-1]': 700.0,\n",
       " 'Separator thermal conductivity [W.m-1.K-1]': 0.16,\n",
       " 'Separator thickness [m]': 1.2e-05,\n",
       " 'Thermodynamic factor': 1.0,\n",
       " 'Total heat transfer coefficient [W.m-2.K-1]': 10.0,\n",
       " 'Upper voltage cut-off [V]': 4.2,\n",
       " 'citations': ['Chen2020']}"
      ]
     },
     "execution_count": 23,
     "metadata": {},
     "output_type": "execute_result"
    }
   ],
   "source": [
    "param"
   ]
  },
  {
   "cell_type": "code",
   "execution_count": 37,
   "id": "86aa1232",
   "metadata": {},
   "outputs": [],
   "source": [
    "model = pybamm.lithium_ion.SPMe()\n",
    "param = pybamm.ParameterValues(\"Chen2020\")\n",
    "param[\"Current function [A]\"] = \"[input]\""
   ]
  },
  {
   "cell_type": "code",
   "execution_count": 72,
   "id": "3cba57bd",
   "metadata": {},
   "outputs": [],
   "source": [
    "time_step = 100 #[s]\n",
    "final_time =60000 #[s]\n",
    "max_step = int(final_time/time_step)\n",
    "#i = [random.randint(-2, 2) for _ in range(max_step)]\n",
    "i = [1 for _ in range(max_step)]\n",
    "soc_0 = param['Initial concentration in negative electrode [mol.m-3]']/param['Maximum concentration in negative electrode [mol.m-3]']"
   ]
  },
  {
   "cell_type": "code",
   "execution_count": 73,
   "id": "80e10986",
   "metadata": {},
   "outputs": [],
   "source": [
    "soc_0 = 1"
   ]
  },
  {
   "cell_type": "code",
   "execution_count": 74,
   "id": "3051aca9",
   "metadata": {},
   "outputs": [],
   "source": [
    "sim = pybamm.Simulation(model, parameter_values=param)\n",
    "sim.build(check_model=True, initial_soc=soc_0)"
   ]
  },
  {
   "cell_type": "code",
   "execution_count": 75,
   "id": "f98b8424",
   "metadata": {
    "scrolled": true
   },
   "outputs": [
    {
     "name": "stdout",
     "output_type": "stream",
     "text": [
      "Time: 100.0 SoC: 0.99444 Current: 1.0 Voltage: 4.12 Discharge capacity: 0.03\n",
      "Time: 200.0 SoC: 0.98889 Current: 1.0 Voltage: 4.1 Discharge capacity: 0.06\n",
      "Time: 300.0 SoC: 0.98333 Current: 1.0 Voltage: 4.09 Discharge capacity: 0.08\n",
      "Time: 400.0 SoC: 0.97778 Current: 1.0 Voltage: 4.09 Discharge capacity: 0.11\n",
      "Time: 500.0 SoC: 0.97222 Current: 1.0 Voltage: 4.08 Discharge capacity: 0.14\n",
      "Time: 600.0 SoC: 0.96667 Current: 1.0 Voltage: 4.07 Discharge capacity: 0.17\n",
      "Time: 700.0 SoC: 0.96111 Current: 1.0 Voltage: 4.07 Discharge capacity: 0.19\n",
      "Time: 800.0 SoC: 0.95556 Current: 1.0 Voltage: 4.06 Discharge capacity: 0.22\n",
      "Time: 900.0 SoC: 0.95 Current: 1.0 Voltage: 4.06 Discharge capacity: 0.25\n",
      "Time: 1000.0 SoC: 0.94444 Current: 1.0 Voltage: 4.06 Discharge capacity: 0.28\n",
      "Time: 1100.0 SoC: 0.93889 Current: 1.0 Voltage: 4.06 Discharge capacity: 0.31\n",
      "Time: 1200.0 SoC: 0.93333 Current: 1.0 Voltage: 4.06 Discharge capacity: 0.33\n",
      "Time: 1300.0 SoC: 0.92778 Current: 1.0 Voltage: 4.06 Discharge capacity: 0.36\n",
      "Time: 1400.0 SoC: 0.92222 Current: 1.0 Voltage: 4.05 Discharge capacity: 0.39\n",
      "Time: 1500.0 SoC: 0.91667 Current: 1.0 Voltage: 4.05 Discharge capacity: 0.42\n",
      "Time: 1600.0 SoC: 0.91111 Current: 1.0 Voltage: 4.05 Discharge capacity: 0.44\n",
      "Time: 1700.0 SoC: 0.90556 Current: 1.0 Voltage: 4.05 Discharge capacity: 0.47\n",
      "Time: 1800.0 SoC: 0.9 Current: 1.0 Voltage: 4.05 Discharge capacity: 0.5\n",
      "Time: 1900.0 SoC: 0.89444 Current: 1.0 Voltage: 4.05 Discharge capacity: 0.53\n",
      "Time: 2000.0 SoC: 0.88889 Current: 1.0 Voltage: 4.05 Discharge capacity: 0.56\n",
      "Time: 2100.0 SoC: 0.88333 Current: 1.0 Voltage: 4.05 Discharge capacity: 0.58\n",
      "Time: 2200.0 SoC: 0.87778 Current: 1.0 Voltage: 4.04 Discharge capacity: 0.61\n",
      "Time: 2300.0 SoC: 0.87222 Current: 1.0 Voltage: 4.04 Discharge capacity: 0.64\n",
      "Time: 2400.0 SoC: 0.86667 Current: 1.0 Voltage: 4.04 Discharge capacity: 0.67\n",
      "Time: 2500.0 SoC: 0.86111 Current: 1.0 Voltage: 4.04 Discharge capacity: 0.69\n",
      "Time: 2600.0 SoC: 0.85556 Current: 1.0 Voltage: 4.03 Discharge capacity: 0.72\n",
      "Time: 2700.0 SoC: 0.85 Current: 1.0 Voltage: 4.03 Discharge capacity: 0.75\n",
      "Time: 2800.0 SoC: 0.84444 Current: 1.0 Voltage: 4.02 Discharge capacity: 0.78\n",
      "Time: 2900.0 SoC: 0.83889 Current: 1.0 Voltage: 4.02 Discharge capacity: 0.81\n",
      "Time: 3000.0 SoC: 0.83333 Current: 1.0 Voltage: 4.02 Discharge capacity: 0.83\n",
      "Time: 3100.0 SoC: 0.82778 Current: 1.0 Voltage: 4.01 Discharge capacity: 0.86\n",
      "Time: 3200.0 SoC: 0.82222 Current: 1.0 Voltage: 4.01 Discharge capacity: 0.89\n",
      "Time: 3300.0 SoC: 0.81667 Current: 1.0 Voltage: 4.0 Discharge capacity: 0.92\n",
      "Time: 3400.0 SoC: 0.81111 Current: 1.0 Voltage: 4.0 Discharge capacity: 0.94\n",
      "Time: 3500.0 SoC: 0.80556 Current: 1.0 Voltage: 3.99 Discharge capacity: 0.97\n",
      "Time: 3600.0 SoC: 0.8 Current: 1.0 Voltage: 3.99 Discharge capacity: 1.0\n",
      "Time: 3700.0 SoC: 0.79444 Current: 1.0 Voltage: 3.98 Discharge capacity: 1.03\n",
      "Time: 3800.0 SoC: 0.78889 Current: 1.0 Voltage: 3.98 Discharge capacity: 1.06\n",
      "Time: 3900.0 SoC: 0.78333 Current: 1.0 Voltage: 3.97 Discharge capacity: 1.08\n",
      "Time: 4000.0 SoC: 0.77778 Current: 1.0 Voltage: 3.97 Discharge capacity: 1.11\n",
      "Time: 4100.0 SoC: 0.77222 Current: 1.0 Voltage: 3.96 Discharge capacity: 1.14\n",
      "Time: 4200.0 SoC: 0.76667 Current: 1.0 Voltage: 3.96 Discharge capacity: 1.17\n",
      "Time: 4300.0 SoC: 0.76111 Current: 1.0 Voltage: 3.95 Discharge capacity: 1.19\n",
      "Time: 4400.0 SoC: 0.75556 Current: 1.0 Voltage: 3.95 Discharge capacity: 1.22\n",
      "Time: 4500.0 SoC: 0.75 Current: 1.0 Voltage: 3.94 Discharge capacity: 1.25\n",
      "Time: 4600.0 SoC: 0.74444 Current: 1.0 Voltage: 3.94 Discharge capacity: 1.28\n",
      "Time: 4700.0 SoC: 0.73889 Current: 1.0 Voltage: 3.93 Discharge capacity: 1.31\n",
      "Time: 4800.0 SoC: 0.73333 Current: 1.0 Voltage: 3.93 Discharge capacity: 1.33\n",
      "Time: 4900.0 SoC: 0.72778 Current: 1.0 Voltage: 3.92 Discharge capacity: 1.36\n",
      "Time: 5000.0 SoC: 0.72222 Current: 1.0 Voltage: 3.92 Discharge capacity: 1.39\n",
      "Time: 5100.0 SoC: 0.71667 Current: 1.0 Voltage: 3.91 Discharge capacity: 1.42\n",
      "Time: 5200.0 SoC: 0.71111 Current: 1.0 Voltage: 3.91 Discharge capacity: 1.44\n",
      "Time: 5300.0 SoC: 0.70556 Current: 1.0 Voltage: 3.91 Discharge capacity: 1.47\n",
      "Time: 5400.0 SoC: 0.7 Current: 1.0 Voltage: 3.9 Discharge capacity: 1.5\n",
      "Time: 5500.0 SoC: 0.69444 Current: 1.0 Voltage: 3.9 Discharge capacity: 1.53\n",
      "Time: 5600.0 SoC: 0.68889 Current: 1.0 Voltage: 3.89 Discharge capacity: 1.56\n",
      "Time: 5700.0 SoC: 0.68333 Current: 1.0 Voltage: 3.89 Discharge capacity: 1.58\n",
      "Time: 5800.0 SoC: 0.67778 Current: 1.0 Voltage: 3.88 Discharge capacity: 1.61\n",
      "Time: 5900.0 SoC: 0.67222 Current: 1.0 Voltage: 3.87 Discharge capacity: 1.64\n",
      "Time: 6000.0 SoC: 0.66667 Current: 1.0 Voltage: 3.87 Discharge capacity: 1.67\n",
      "Time: 6100.0 SoC: 0.66111 Current: 1.0 Voltage: 3.86 Discharge capacity: 1.69\n",
      "Time: 6200.0 SoC: 0.65556 Current: 1.0 Voltage: 3.85 Discharge capacity: 1.72\n",
      "Time: 6300.0 SoC: 0.65 Current: 1.0 Voltage: 3.85 Discharge capacity: 1.75\n",
      "Time: 6400.0 SoC: 0.64444 Current: 1.0 Voltage: 3.84 Discharge capacity: 1.78\n",
      "Time: 6500.0 SoC: 0.63889 Current: 1.0 Voltage: 3.83 Discharge capacity: 1.81\n",
      "Time: 6600.0 SoC: 0.63333 Current: 1.0 Voltage: 3.83 Discharge capacity: 1.83\n",
      "Time: 6700.0 SoC: 0.62778 Current: 1.0 Voltage: 3.82 Discharge capacity: 1.86\n",
      "Time: 6800.0 SoC: 0.62222 Current: 1.0 Voltage: 3.82 Discharge capacity: 1.89\n",
      "Time: 6900.0 SoC: 0.61667 Current: 1.0 Voltage: 3.81 Discharge capacity: 1.92\n",
      "Time: 7000.0 SoC: 0.61111 Current: 1.0 Voltage: 3.81 Discharge capacity: 1.94\n",
      "Time: 7100.0 SoC: 0.60556 Current: 1.0 Voltage: 3.8 Discharge capacity: 1.97\n",
      "Time: 7200.0 SoC: 0.6 Current: 1.0 Voltage: 3.8 Discharge capacity: 2.0\n",
      "Time: 7300.0 SoC: 0.59444 Current: 1.0 Voltage: 3.79 Discharge capacity: 2.03\n",
      "Time: 7400.0 SoC: 0.58889 Current: 1.0 Voltage: 3.79 Discharge capacity: 2.06\n",
      "Time: 7500.0 SoC: 0.58333 Current: 1.0 Voltage: 3.78 Discharge capacity: 2.08\n",
      "Time: 7600.0 SoC: 0.57778 Current: 1.0 Voltage: 3.78 Discharge capacity: 2.11\n",
      "Time: 7700.0 SoC: 0.57222 Current: 1.0 Voltage: 3.77 Discharge capacity: 2.14\n",
      "Time: 7800.0 SoC: 0.56667 Current: 1.0 Voltage: 3.77 Discharge capacity: 2.17\n",
      "Time: 7900.0 SoC: 0.56111 Current: 1.0 Voltage: 3.76 Discharge capacity: 2.19\n",
      "Time: 8000.0 SoC: 0.55556 Current: 1.0 Voltage: 3.76 Discharge capacity: 2.22\n",
      "Time: 8100.0 SoC: 0.55 Current: 1.0 Voltage: 3.75 Discharge capacity: 2.25\n",
      "Time: 8200.0 SoC: 0.54444 Current: 1.0 Voltage: 3.75 Discharge capacity: 2.28\n",
      "Time: 8300.0 SoC: 0.53889 Current: 1.0 Voltage: 3.74 Discharge capacity: 2.31\n",
      "Time: 8400.0 SoC: 0.53333 Current: 1.0 Voltage: 3.74 Discharge capacity: 2.33\n",
      "Time: 8500.0 SoC: 0.52778 Current: 1.0 Voltage: 3.73 Discharge capacity: 2.36\n",
      "Time: 8600.0 SoC: 0.52222 Current: 1.0 Voltage: 3.73 Discharge capacity: 2.39\n",
      "Time: 8700.0 SoC: 0.51667 Current: 1.0 Voltage: 3.72 Discharge capacity: 2.42\n",
      "Time: 8800.0 SoC: 0.51111 Current: 1.0 Voltage: 3.72 Discharge capacity: 2.44\n",
      "Time: 8900.0 SoC: 0.50556 Current: 1.0 Voltage: 3.71 Discharge capacity: 2.47\n",
      "Time: 9000.0 SoC: 0.5 Current: 1.0 Voltage: 3.71 Discharge capacity: 2.5\n",
      "Time: 9100.0 SoC: 0.49444 Current: 1.0 Voltage: 3.7 Discharge capacity: 2.53\n",
      "Time: 9200.0 SoC: 0.48889 Current: 1.0 Voltage: 3.7 Discharge capacity: 2.56\n",
      "Time: 9300.0 SoC: 0.48333 Current: 1.0 Voltage: 3.69 Discharge capacity: 2.58\n",
      "Time: 9400.0 SoC: 0.47778 Current: 1.0 Voltage: 3.69 Discharge capacity: 2.61\n",
      "Time: 9500.0 SoC: 0.47222 Current: 1.0 Voltage: 3.68 Discharge capacity: 2.64\n",
      "Time: 9600.0 SoC: 0.46667 Current: 1.0 Voltage: 3.68 Discharge capacity: 2.67\n",
      "Time: 9700.0 SoC: 0.46111 Current: 1.0 Voltage: 3.67 Discharge capacity: 2.69\n",
      "Time: 9800.0 SoC: 0.45556 Current: 1.0 Voltage: 3.67 Discharge capacity: 2.72\n",
      "Time: 9900.0 SoC: 0.45 Current: 1.0 Voltage: 3.66 Discharge capacity: 2.75\n",
      "Time: 10000.0 SoC: 0.44444 Current: 1.0 Voltage: 3.66 Discharge capacity: 2.78\n",
      "Time: 10100.0 SoC: 0.43889 Current: 1.0 Voltage: 3.66 Discharge capacity: 2.81\n",
      "Time: 10200.0 SoC: 0.43333 Current: 1.0 Voltage: 3.65 Discharge capacity: 2.83\n",
      "Time: 10300.0 SoC: 0.42778 Current: 1.0 Voltage: 3.65 Discharge capacity: 2.86\n",
      "Time: 10400.0 SoC: 0.42222 Current: 1.0 Voltage: 3.64 Discharge capacity: 2.89\n",
      "Time: 10500.0 SoC: 0.41667 Current: 1.0 Voltage: 3.64 Discharge capacity: 2.92\n",
      "Time: 10600.0 SoC: 0.41111 Current: 1.0 Voltage: 3.64 Discharge capacity: 2.94\n",
      "Time: 10700.0 SoC: 0.40556 Current: 1.0 Voltage: 3.63 Discharge capacity: 2.97\n",
      "Time: 10800.0 SoC: 0.4 Current: 1.0 Voltage: 3.63 Discharge capacity: 3.0\n",
      "Time: 10900.0 SoC: 0.39444 Current: 1.0 Voltage: 3.62 Discharge capacity: 3.03\n"
     ]
    },
    {
     "name": "stdout",
     "output_type": "stream",
     "text": [
      "Time: 11000.0 SoC: 0.38889 Current: 1.0 Voltage: 3.62 Discharge capacity: 3.06\n",
      "Time: 11100.0 SoC: 0.38333 Current: 1.0 Voltage: 3.62 Discharge capacity: 3.08\n",
      "Time: 11200.0 SoC: 0.37778 Current: 1.0 Voltage: 3.61 Discharge capacity: 3.11\n",
      "Time: 11300.0 SoC: 0.37222 Current: 1.0 Voltage: 3.61 Discharge capacity: 3.14\n",
      "Time: 11400.0 SoC: 0.36667 Current: 1.0 Voltage: 3.61 Discharge capacity: 3.17\n",
      "Time: 11500.0 SoC: 0.36111 Current: 1.0 Voltage: 3.6 Discharge capacity: 3.19\n",
      "Time: 11600.0 SoC: 0.35556 Current: 1.0 Voltage: 3.6 Discharge capacity: 3.22\n",
      "Time: 11700.0 SoC: 0.35 Current: 1.0 Voltage: 3.59 Discharge capacity: 3.25\n",
      "Time: 11800.0 SoC: 0.34444 Current: 1.0 Voltage: 3.59 Discharge capacity: 3.28\n",
      "Time: 11900.0 SoC: 0.33889 Current: 1.0 Voltage: 3.59 Discharge capacity: 3.31\n",
      "Time: 12000.0 SoC: 0.33333 Current: 1.0 Voltage: 3.58 Discharge capacity: 3.33\n",
      "Time: 12100.0 SoC: 0.32778 Current: 1.0 Voltage: 3.58 Discharge capacity: 3.36\n",
      "Time: 12200.0 SoC: 0.32222 Current: 1.0 Voltage: 3.57 Discharge capacity: 3.39\n",
      "Time: 12300.0 SoC: 0.31667 Current: 1.0 Voltage: 3.57 Discharge capacity: 3.42\n",
      "Time: 12400.0 SoC: 0.31111 Current: 1.0 Voltage: 3.56 Discharge capacity: 3.44\n",
      "Time: 12500.0 SoC: 0.30556 Current: 1.0 Voltage: 3.56 Discharge capacity: 3.47\n",
      "Time: 12600.0 SoC: 0.3 Current: 1.0 Voltage: 3.55 Discharge capacity: 3.5\n",
      "Time: 12700.0 SoC: 0.29444 Current: 1.0 Voltage: 3.55 Discharge capacity: 3.53\n",
      "Time: 12800.0 SoC: 0.28889 Current: 1.0 Voltage: 3.54 Discharge capacity: 3.56\n",
      "Time: 12900.0 SoC: 0.28333 Current: 1.0 Voltage: 3.53 Discharge capacity: 3.58\n",
      "Time: 13000.0 SoC: 0.27778 Current: 1.0 Voltage: 3.53 Discharge capacity: 3.61\n",
      "Time: 13100.0 SoC: 0.27222 Current: 1.0 Voltage: 3.52 Discharge capacity: 3.64\n",
      "Time: 13200.0 SoC: 0.26667 Current: 1.0 Voltage: 3.52 Discharge capacity: 3.67\n",
      "Time: 13300.0 SoC: 0.26111 Current: 1.0 Voltage: 3.51 Discharge capacity: 3.69\n",
      "Time: 13400.0 SoC: 0.25556 Current: 1.0 Voltage: 3.51 Discharge capacity: 3.72\n",
      "Time: 13500.0 SoC: 0.25 Current: 1.0 Voltage: 3.5 Discharge capacity: 3.75\n",
      "Time: 13600.0 SoC: 0.24444 Current: 1.0 Voltage: 3.49 Discharge capacity: 3.78\n",
      "Time: 13700.0 SoC: 0.23889 Current: 1.0 Voltage: 3.49 Discharge capacity: 3.81\n",
      "Time: 13800.0 SoC: 0.23333 Current: 1.0 Voltage: 3.48 Discharge capacity: 3.83\n",
      "Time: 13900.0 SoC: 0.22778 Current: 1.0 Voltage: 3.48 Discharge capacity: 3.86\n",
      "Time: 14000.0 SoC: 0.22222 Current: 1.0 Voltage: 3.47 Discharge capacity: 3.89\n",
      "Time: 14100.0 SoC: 0.21667 Current: 1.0 Voltage: 3.47 Discharge capacity: 3.92\n",
      "Time: 14200.0 SoC: 0.21111 Current: 1.0 Voltage: 3.46 Discharge capacity: 3.94\n",
      "Time: 14300.0 SoC: 0.20556 Current: 1.0 Voltage: 3.46 Discharge capacity: 3.97\n",
      "Time: 14400.0 SoC: 0.2 Current: 1.0 Voltage: 3.45 Discharge capacity: 4.0\n",
      "Time: 14500.0 SoC: 0.19444 Current: 1.0 Voltage: 3.45 Discharge capacity: 4.03\n",
      "Time: 14600.0 SoC: 0.18889 Current: 1.0 Voltage: 3.44 Discharge capacity: 4.06\n",
      "Time: 14700.0 SoC: 0.18333 Current: 1.0 Voltage: 3.44 Discharge capacity: 4.08\n",
      "Time: 14800.0 SoC: 0.17778 Current: 1.0 Voltage: 3.43 Discharge capacity: 4.11\n",
      "Time: 14900.0 SoC: 0.17222 Current: 1.0 Voltage: 3.43 Discharge capacity: 4.14\n",
      "Time: 15000.0 SoC: 0.16667 Current: 1.0 Voltage: 3.42 Discharge capacity: 4.17\n",
      "Time: 15100.0 SoC: 0.16111 Current: 1.0 Voltage: 3.42 Discharge capacity: 4.19\n",
      "Time: 15200.0 SoC: 0.15556 Current: 1.0 Voltage: 3.41 Discharge capacity: 4.22\n",
      "Time: 15300.0 SoC: 0.15 Current: 1.0 Voltage: 3.41 Discharge capacity: 4.25\n",
      "Time: 15400.0 SoC: 0.14444 Current: 1.0 Voltage: 3.4 Discharge capacity: 4.28\n",
      "Time: 15500.0 SoC: 0.13889 Current: 1.0 Voltage: 3.4 Discharge capacity: 4.31\n",
      "Time: 15600.0 SoC: 0.13333 Current: 1.0 Voltage: 3.39 Discharge capacity: 4.33\n",
      "Time: 15700.0 SoC: 0.12778 Current: 1.0 Voltage: 3.38 Discharge capacity: 4.36\n",
      "Time: 15800.0 SoC: 0.12222 Current: 1.0 Voltage: 3.37 Discharge capacity: 4.39\n",
      "Time: 15900.0 SoC: 0.11667 Current: 1.0 Voltage: 3.36 Discharge capacity: 4.42\n",
      "Time: 16000.0 SoC: 0.11111 Current: 1.0 Voltage: 3.35 Discharge capacity: 4.44\n",
      "Time: 16100.0 SoC: 0.10556 Current: 1.0 Voltage: 3.33 Discharge capacity: 4.47\n",
      "Time: 16200.0 SoC: 0.1 Current: 1.0 Voltage: 3.32 Discharge capacity: 4.5\n",
      "Time: 16300.0 SoC: 0.09444 Current: 1.0 Voltage: 3.3 Discharge capacity: 4.53\n",
      "Time: 16400.0 SoC: 0.08889 Current: 1.0 Voltage: 3.28 Discharge capacity: 4.56\n",
      "Time: 16500.0 SoC: 0.08333 Current: 1.0 Voltage: 3.26 Discharge capacity: 4.58\n",
      "Time: 16600.0 SoC: 0.07778 Current: 1.0 Voltage: 3.24 Discharge capacity: 4.61\n",
      "Time: 16700.0 SoC: 0.07222 Current: 1.0 Voltage: 3.23 Discharge capacity: 4.64\n",
      "Time: 16800.0 SoC: 0.06667 Current: 1.0 Voltage: 3.21 Discharge capacity: 4.67\n",
      "Time: 16900.0 SoC: 0.06111 Current: 1.0 Voltage: 3.19 Discharge capacity: 4.69\n",
      "Time: 17000.0 SoC: 0.05556 Current: 1.0 Voltage: 3.17 Discharge capacity: 4.72\n",
      "Time: 17100.0 SoC: 0.05 Current: 1.0 Voltage: 3.15 Discharge capacity: 4.75\n",
      "Time: 17200.0 SoC: 0.04444 Current: 1.0 Voltage: 3.13 Discharge capacity: 4.78\n",
      "Time: 17300.0 SoC: 0.03889 Current: 1.0 Voltage: 3.11 Discharge capacity: 4.81\n",
      "Time: 17400.0 SoC: 0.03333 Current: 1.0 Voltage: 3.09 Discharge capacity: 4.83\n",
      "Time: 17500.0 SoC: 0.02778 Current: 1.0 Voltage: 3.06 Discharge capacity: 4.86\n",
      "Time: 17600.0 SoC: 0.02222 Current: 1.0 Voltage: 3.03 Discharge capacity: 4.89\n",
      "Time: 17700.0 SoC: 0.01667 Current: 1.0 Voltage: 3.0 Discharge capacity: 4.92\n",
      "Time: 17800.0 SoC: 0.01111 Current: 1.0 Voltage: 2.96 Discharge capacity: 4.94\n",
      "Time: 17900.0 SoC: 0.00556 Current: 1.0 Voltage: 2.92 Discharge capacity: 4.97\n",
      "Time: 18000.0 SoC: 0.0 Current: 1.0 Voltage: 2.86 Discharge capacity: 5.0\n",
      "Time: 18100.0 SoC: -0.00556 Current: 1.0 Voltage: 2.8 Discharge capacity: 5.03\n",
      "Time: 18200.0 SoC: -0.01111 Current: 1.0 Voltage: 2.72 Discharge capacity: 5.06\n",
      "Time: 18300.0 SoC: -0.01667 Current: 1.0 Voltage: 2.63 Discharge capacity: 5.08\n",
      "Time: 18400.0 SoC: -0.02222 Current: 1.0 Voltage: 2.52 Discharge capacity: 5.11\n",
      "Time: 18419.810841398037 SoC: -0.02332 Current: 1.0 Voltage: 2.5 Discharge capacity: 5.12\n",
      "Lower cut-off voltage of 2.5 [V] was reached!\n"
     ]
    },
    {
     "data": {
      "application/vnd.jupyter.widget-view+json": {
       "model_id": "81912d794eca4b7dbb105cc2ae257fc9",
       "version_major": 2,
       "version_minor": 0
      },
      "text/plain": [
       "interactive(children=(FloatSlider(value=0.0, description='t', max=5.1166141226105655, step=0.05116614122610565…"
      ]
     },
     "metadata": {},
     "output_type": "display_data"
    },
    {
     "data": {
      "text/plain": [
       "<pybamm.plotting.quick_plot.QuickPlot at 0x1df32510550>"
      ]
     },
     "execution_count": 75,
     "metadata": {},
     "output_type": "execute_result"
    }
   ],
   "source": [
    "step = 0\n",
    "while step < int(final_time/time_step): \n",
    "    sim.step(dt=time_step,npts = 2, save=True, inputs={'Current function [A]': i[step]})\n",
    "    solution = sim.solution\n",
    "    n = len(solution[\"Time [s]\"].entries)-1\n",
    "    time = solution[\"Time [s]\"].entries[n]\n",
    "    current = solution['Current [A]'].entries[n]\n",
    "    discharge_capacity = solution['Discharge capacity [A.h]'].entries[n]\n",
    "    soc = soc_0 - discharge_capacity/param['Nominal cell capacity [A.h]']\n",
    "    voltage = round(solution['Voltage [V]'].entries[n],2)\n",
    "    current = solution['Current [A]'].entries[n]\n",
    "    print('Time:', time,'SoC:', round(soc,5), 'Current:',round(current,2),'Voltage:', voltage,'Discharge capacity:',round(discharge_capacity,2))\n",
    "    if voltage == param['Upper voltage cut-off [V]']:\n",
    "        print('Upper cut-off voltage of', param['Upper voltage cut-off [V]'], '[V] was reached!')\n",
    "        break\n",
    "    if voltage == param['Lower voltage cut-off [V]']:\n",
    "        print('Lower cut-off voltage of', param['Lower voltage cut-off [V]'], '[V] was reached!')\n",
    "        break\n",
    "    step += 1\n",
    "sim.plot([\"Current [A]\", \"Voltage [V]\"])"
   ]
  },
  {
   "cell_type": "code",
   "execution_count": 43,
   "id": "637ecbdc",
   "metadata": {},
   "outputs": [],
   "source": [
    "solution = sim.solution"
   ]
  },
  {
   "cell_type": "code",
   "execution_count": null,
   "id": "2f159f89",
   "metadata": {},
   "outputs": [],
   "source": [
    "len(i)"
   ]
  },
  {
   "cell_type": "code",
   "execution_count": null,
   "id": "dc8266b5",
   "metadata": {},
   "outputs": [],
   "source": [
    "time = solution[\"Time [s]\"].entries\n",
    "soc = soc_0 - solution['Discharge capacity [A.h]'].entries/param['Nominal cell capacity [A.h]']\n",
    "voltage = solution['Voltage [V]']\n",
    "discharge_capacity = solution['Discharge capacity [A.h]'].entries\n"
   ]
  },
  {
   "cell_type": "code",
   "execution_count": null,
   "id": "2ae0e3ad",
   "metadata": {
    "scrolled": false
   },
   "outputs": [],
   "source": [
    "plt.plot(time,soc)"
   ]
  },
  {
   "cell_type": "code",
   "execution_count": null,
   "id": "42fa00a2",
   "metadata": {},
   "outputs": [],
   "source": [
    "time"
   ]
  },
  {
   "cell_type": "code",
   "execution_count": 42,
   "id": "e1d77b25",
   "metadata": {},
   "outputs": [
    {
     "ename": "AttributeError",
     "evalue": "'Solution' object has no attribute 'entries'",
     "output_type": "error",
     "traceback": [
      "\u001b[1;31m---------------------------------------------------------------------------\u001b[0m",
      "\u001b[1;31mAttributeError\u001b[0m                            Traceback (most recent call last)",
      "Cell \u001b[1;32mIn[42], line 1\u001b[0m\n\u001b[1;32m----> 1\u001b[0m \u001b[43msolution\u001b[49m\u001b[38;5;241;43m.\u001b[39;49m\u001b[43mentries\u001b[49m\n",
      "\u001b[1;31mAttributeError\u001b[0m: 'Solution' object has no attribute 'entries'"
     ]
    }
   ],
   "source": [
    "solution.entries"
   ]
  },
  {
   "cell_type": "code",
   "execution_count": 44,
   "id": "0f707f6f",
   "metadata": {},
   "outputs": [
    {
     "data": {
      "text/plain": [
       "array([   0.        ,  100.        ,  100.        ,  200.        ,\n",
       "        200.        ,  300.        ,  300.        ,  400.        ,\n",
       "        400.        ,  500.        ,  500.        ,  600.        ,\n",
       "        600.        ,  700.        ,  700.        ,  800.        ,\n",
       "        800.        ,  900.        ,  900.        , 1000.        ,\n",
       "       1000.        , 1100.        , 1100.        , 1200.        ,\n",
       "       1200.        , 1300.        , 1300.        , 1400.        ,\n",
       "       1400.        , 1500.        , 1500.        , 1600.        ,\n",
       "       1600.        , 1700.        , 1700.        , 1800.        ,\n",
       "       1800.        , 1900.        , 1900.        , 2000.        ,\n",
       "       2000.        , 2100.        , 2100.        , 2200.        ,\n",
       "       2200.        , 2300.        , 2300.        , 2400.        ,\n",
       "       2400.        , 2500.        , 2500.        , 2600.        ,\n",
       "       2600.        , 2700.        , 2700.        , 2800.        ,\n",
       "       2800.        , 2900.        , 2900.        , 3000.        ,\n",
       "       3000.        , 3100.        , 3100.        , 3200.        ,\n",
       "       3200.        , 3300.        , 3300.        , 3400.        ,\n",
       "       3400.        , 3500.        , 3500.        , 3600.        ,\n",
       "       3600.        , 3700.        , 3700.        , 3800.        ,\n",
       "       3800.        , 3900.        , 3900.        , 4000.        ,\n",
       "       4000.        , 4100.        , 4100.        , 4200.        ,\n",
       "       4200.        , 4300.        , 4300.        , 4400.        ,\n",
       "       4400.        , 4500.        , 4500.        , 4600.        ,\n",
       "       4600.        , 4700.        , 4700.        , 4800.        ,\n",
       "       4800.        , 4900.        , 4900.        , 5000.        ,\n",
       "       5000.        , 5100.        , 5100.        , 5200.        ,\n",
       "       5200.        , 5300.        , 5300.        , 5400.        ,\n",
       "       5400.        , 5500.        , 5500.        , 5600.        ,\n",
       "       5600.        , 5700.        , 5700.        , 5800.        ,\n",
       "       5800.        , 5900.        , 5900.        , 6000.        ,\n",
       "       6000.        , 6100.        , 6100.        , 6200.        ,\n",
       "       6200.        , 6300.        , 6300.        , 6400.        ,\n",
       "       6400.        , 6500.        , 6500.        , 6600.        ,\n",
       "       6600.        , 6700.        , 6700.        , 6800.        ,\n",
       "       6800.        , 6900.        , 6900.        , 7000.        ,\n",
       "       7000.        , 7100.        , 7100.        , 7200.        ,\n",
       "       7200.        , 7300.        , 7300.        , 7400.        ,\n",
       "       7400.        , 7500.        , 7500.        , 7600.        ,\n",
       "       7600.        , 7700.        , 7700.        , 7800.        ,\n",
       "       7800.        , 7900.        , 7900.        , 8000.        ,\n",
       "       8000.        , 8100.        , 8100.        , 8200.        ,\n",
       "       8200.        , 8300.        , 8300.        , 8315.68441813])"
      ]
     },
     "execution_count": 44,
     "metadata": {},
     "output_type": "execute_result"
    }
   ],
   "source": [
    "solution[\"Time [s]\"].entries"
   ]
  },
  {
   "cell_type": "code",
   "execution_count": null,
   "id": "6691b2af",
   "metadata": {},
   "outputs": [],
   "source": []
  }
 ],
 "metadata": {
  "kernelspec": {
   "display_name": "battery_model",
   "language": "python",
   "name": "battery_model"
  },
  "language_info": {
   "codemirror_mode": {
    "name": "ipython",
    "version": 3
   },
   "file_extension": ".py",
   "mimetype": "text/x-python",
   "name": "python",
   "nbconvert_exporter": "python",
   "pygments_lexer": "ipython3",
   "version": "3.10.11"
  }
 },
 "nbformat": 4,
 "nbformat_minor": 5
}
