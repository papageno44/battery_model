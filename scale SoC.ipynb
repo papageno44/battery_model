{
 "cells": [
  {
   "cell_type": "code",
   "execution_count": 54,
   "id": "1214e908",
   "metadata": {},
   "outputs": [],
   "source": [
    "import pybamm\n",
    "import random\n",
    "import numpy as np\n",
    "import matplotlib.pyplot as plt"
   ]
  },
  {
   "cell_type": "code",
   "execution_count": 55,
   "id": "86aa1232",
   "metadata": {},
   "outputs": [],
   "source": [
    "model = pybamm.lithium_ion.SPMe()\n",
    "param = pybamm.ParameterValues(\"Chen2020\")\n",
    "param[\"Current function [A]\"] = \"[input]\""
   ]
  },
  {
   "cell_type": "code",
   "execution_count": 56,
   "id": "3cba57bd",
   "metadata": {},
   "outputs": [],
   "source": [
    "time_step = 100 #[s]\n",
    "final_time =60000 #[s]\n",
    "max_step = int(final_time/time_step)"
   ]
  },
  {
   "cell_type": "markdown",
   "id": "c565d3d1",
   "metadata": {},
   "source": [
    "Finding minimum SoC"
   ]
  },
  {
   "cell_type": "code",
   "execution_count": 57,
   "id": "80e10986",
   "metadata": {},
   "outputs": [],
   "source": [
    "soc_0 = 1\n",
    "i = [1 for _ in range(max_step)]"
   ]
  },
  {
   "cell_type": "code",
   "execution_count": 58,
   "id": "3051aca9",
   "metadata": {},
   "outputs": [],
   "source": [
    "sim = pybamm.Simulation(model, parameter_values=param)\n",
    "sim.build(check_model=True, initial_soc=soc_0)"
   ]
  },
  {
   "cell_type": "code",
   "execution_count": 59,
   "id": "f98b8424",
   "metadata": {
    "scrolled": true
   },
   "outputs": [
    {
     "name": "stdout",
     "output_type": "stream",
     "text": [
      "Lower cut-off voltage of 2.5 [V] was reached!\n"
     ]
    }
   ],
   "source": [
    "step = 0\n",
    "while step < int(final_time/time_step): \n",
    "    sim.step(dt=time_step,npts = 2, save=True, inputs={'Current function [A]': i[step]})\n",
    "    solution = sim.solution\n",
    "    n = len(solution[\"Time [s]\"].entries)-1\n",
    "    time = solution[\"Time [s]\"].entries[n]\n",
    "    discharge_capacity = solution['Discharge capacity [A.h]'].entries[n]\n",
    "    voltage = round(solution['Voltage [V]'].entries[n],2)\n",
    "    if voltage == param['Lower voltage cut-off [V]']:\n",
    "        print('Lower cut-off voltage of', param['Lower voltage cut-off [V]'], '[V] was reached!')\n",
    "        min_soc = soc_0 - discharge_capacity/param['Nominal cell capacity [A.h]']\n",
    "        break\n",
    "    step += 1"
   ]
  },
  {
   "cell_type": "code",
   "execution_count": 60,
   "id": "6691b2af",
   "metadata": {},
   "outputs": [],
   "source": [
    "#Finding maximum SoC"
   ]
  },
  {
   "cell_type": "code",
   "execution_count": 61,
   "id": "740f62d6",
   "metadata": {},
   "outputs": [],
   "source": [
    "soc_0 = 0\n",
    "i = [-1 for _ in range(max_step)]"
   ]
  },
  {
   "cell_type": "code",
   "execution_count": 62,
   "id": "b36a02e8",
   "metadata": {},
   "outputs": [],
   "source": [
    "model = pybamm.lithium_ion.SPMe()\n",
    "param = pybamm.ParameterValues(\"Chen2020\")\n",
    "param[\"Current function [A]\"] = \"[input]\"\n",
    "sim = pybamm.Simulation(model, parameter_values=param)\n",
    "sim.build(check_model=True, initial_soc=soc_0)"
   ]
  },
  {
   "cell_type": "code",
   "execution_count": 63,
   "id": "89816498",
   "metadata": {},
   "outputs": [
    {
     "name": "stdout",
     "output_type": "stream",
     "text": [
      "Upper cut-off voltage of 4.2 [V] was reached!\n"
     ]
    }
   ],
   "source": [
    "step = 0\n",
    "while step < int(final_time/time_step): \n",
    "    sim.step(dt=time_step,npts = 2, save=True, inputs={'Current function [A]': i[step]})\n",
    "    solution = sim.solution\n",
    "    n = len(solution[\"Time [s]\"].entries)-1\n",
    "    time = solution[\"Time [s]\"].entries[n]\n",
    "    discharge_capacity = solution['Discharge capacity [A.h]'].entries[n]\n",
    "    voltage = round(solution['Voltage [V]'].entries[n],1)\n",
    "    if voltage == param['Upper voltage cut-off [V]']:\n",
    "        print('Upper cut-off voltage of', param['Upper voltage cut-off [V]'], '[V] was reached!')\n",
    "        max_soc = soc_0 - discharge_capacity/param['Nominal cell capacity [A.h]']\n",
    "        break\n",
    "    step += 1"
   ]
  },
  {
   "cell_type": "code",
   "execution_count": 64,
   "id": "e425911e",
   "metadata": {},
   "outputs": [
    {
     "data": {
      "text/plain": [
       "4.151664104945986"
      ]
     },
     "execution_count": 64,
     "metadata": {},
     "output_type": "execute_result"
    }
   ],
   "source": [
    "solution['Voltage [V]'].entries[n]"
   ]
  },
  {
   "cell_type": "code",
   "execution_count": 65,
   "id": "06a453e7",
   "metadata": {},
   "outputs": [
    {
     "data": {
      "text/plain": [
       "-0.023322824522111762"
      ]
     },
     "execution_count": 65,
     "metadata": {},
     "output_type": "execute_result"
    }
   ],
   "source": [
    "min_soc"
   ]
  },
  {
   "cell_type": "code",
   "execution_count": 66,
   "id": "91da686e",
   "metadata": {},
   "outputs": [
    {
     "data": {
      "text/plain": [
       "0.9333333333333321"
      ]
     },
     "execution_count": 66,
     "metadata": {},
     "output_type": "execute_result"
    }
   ],
   "source": [
    "max_soc"
   ]
  },
  {
   "cell_type": "code",
   "execution_count": null,
   "id": "2f299af0",
   "metadata": {},
   "outputs": [],
   "source": []
  }
 ],
 "metadata": {
  "kernelspec": {
   "display_name": "battery_model",
   "language": "python",
   "name": "battery_model"
  },
  "language_info": {
   "codemirror_mode": {
    "name": "ipython",
    "version": 3
   },
   "file_extension": ".py",
   "mimetype": "text/x-python",
   "name": "python",
   "nbconvert_exporter": "python",
   "pygments_lexer": "ipython3",
   "version": "3.10.11"
  }
 },
 "nbformat": 4,
 "nbformat_minor": 5
}
